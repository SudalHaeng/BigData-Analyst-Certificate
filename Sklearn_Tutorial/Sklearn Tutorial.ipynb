{
 "cells": [
  {
   "cell_type": "markdown",
   "id": "8acf5608",
   "metadata": {},
   "source": [
    "#### 빅분기 문제 해결을 위한 사이킷런 모듈 정리\n",
    "#### url =https://scikit-learn.org/stable/modules/classes.html#module"
   ]
  },
  {
   "cell_type": "markdown",
   "id": "59dc7c69",
   "metadata": {},
   "source": [
    "### 모듈이용\n",
    "\n",
    "#### from import를 이용하여 사용하고자 하는 모듈만 import 합니다."
   ]
  },
  {
   "cell_type": "code",
   "execution_count": 1,
   "id": "5f4aa2a4",
   "metadata": {},
   "outputs": [],
   "source": [
    "from sklearn.preprocessing import MinMaxScaler      \n",
    "sc = MinMaxScaler()  "
   ]
  },
  {
   "cell_type": "markdown",
   "id": "7e9d9c26",
   "metadata": {},
   "source": [
    "### 세부 카테고리 검색\n",
    "\n",
    "#### 중간가지의 모듈들 정도는 암기하시고 dir 함수를 이용하여 세부 카테고리는 검색해가며 사용하면 좋습니다."
   ]
  },
  {
   "cell_type": "code",
   "execution_count": 2,
   "id": "b3be685a",
   "metadata": {},
   "outputs": [
    {
     "data": {
      "text/plain": [
       "['BaseCrossValidator',\n",
       " 'GridSearchCV',\n",
       " 'GroupKFold',\n",
       " 'GroupShuffleSplit',\n",
       " 'KFold']"
      ]
     },
     "execution_count": 2,
     "metadata": {},
     "output_type": "execute_result"
    }
   ],
   "source": [
    "import sklearn.model_selection     \n",
    "dir(sklearn.model_selection)[:5]"
   ]
  },
  {
   "cell_type": "markdown",
   "id": "843a0275",
   "metadata": {},
   "source": [
    "### all 을 이용한 탐색\n",
    "\n",
    "#### import sklearn 만 진행한후 __all__을 이용해서 하위 모듈들을 확인할 수 있습니다."
   ]
  },
  {
   "cell_type": "code",
   "execution_count": 3,
   "id": "f300817f",
   "metadata": {},
   "outputs": [
    {
     "data": {
      "text/plain": [
       "['neural_network',\n",
       " 'pipeline',\n",
       " 'preprocessing',\n",
       " 'random_projection',\n",
       " 'semi_supervised']"
      ]
     },
     "execution_count": 3,
     "metadata": {},
     "output_type": "execute_result"
    }
   ],
   "source": [
    "import sklearn\n",
    "sklearn.__all__[-15:-10]"
   ]
  },
  {
   "cell_type": "code",
   "execution_count": 4,
   "id": "0c5ce5e8",
   "metadata": {},
   "outputs": [
    {
     "data": {
      "text/plain": [
       "['Binarizer',\n",
       " 'FunctionTransformer',\n",
       " 'KBinsDiscretizer',\n",
       " 'KernelCenterer',\n",
       " 'LabelBinarizer',\n",
       " 'LabelEncoder']"
      ]
     },
     "execution_count": 4,
     "metadata": {},
     "output_type": "execute_result"
    }
   ],
   "source": [
    "import sklearn.preprocessing\n",
    "sklearn.preprocessing.__all__[:6]"
   ]
  },
  {
   "cell_type": "markdown",
   "id": "0d4af0ab",
   "metadata": {},
   "source": [
    "### 모듈리스트"
   ]
  },
  {
   "cell_type": "markdown",
   "id": "8bb4a9bf",
   "metadata": {},
   "source": [
    "sklearn  \n",
    "│  \n",
    "├── 01 preprocessing (전처리)  \n",
    "│   │  \n",
    "│   ├── 스케일러  \n",
    "│   │   ├── MinMaxScaler  \n",
    "│   │   ├── RobustScaler  \n",
    "│   │   └── StandardScaler  \n",
    "│   │  \n",
    "│   └── 인코더  \n",
    "│       ├── LabelEncoder  \n",
    "│       └── OneHotEncoder  \n",
    "│    \n",
    "├── 02 model_selection (모델링 전처리)  \n",
    "│   │  \n",
    "│   ├── 데이터셋 분리  \n",
    "│   │   ├── KFold  \n",
    "│   │   ├── StratifiedKFold  \n",
    "│   │   └── train_test_split  \n",
    "│   │  \n",
    "│   └── 하이퍼파라미터 튜닝  \n",
    "│       └── GridSearchCV  \n",
    "│  \n",
    "├── 03 모델학습  \n",
    "│   │  \n",
    "│   ├── ensemble  \n",
    "│   │   ├── AdaBoostClassifier  \n",
    "│   │   ├── GradientBoostingClassifier  \n",
    "│   │   ├── RandomForestClassifier  \n",
    "│   │   └── RandomForestRegressor  \n",
    "│   │  \n",
    "│   ├── linear_model  \n",
    "│   │   ├── LogisticRegression  \n",
    "│   │   └── RidgeClassifier  \n",
    "│   │  \n",
    "│   ├── neighbors  \n",
    "│   │   └── KNeighborsClassifier  \n",
    "│   │  \n",
    "│   ├── svm  \n",
    "│   │   ├── SVC  \n",
    "│   │   └── SVR  \n",
    "│   │  \n",
    "│   └── tree  \n",
    "│       ├── DecisionTreeClassifier  \n",
    "│       ├── DecisionTreeRegressor  \n",
    "│       ├── ExtraTreeClassifier  \n",
    "│       └── ExtraTreeRegressor  \n",
    "│  \n",
    "├── 04 모델평가  \n",
    "│   │  \n",
    "│   ├── metrics  \n",
    "│   │   ├── accuracy_score  \n",
    "│   │   ├── classification_report  \n",
    "│   │   ├── confusion_matrix  \n",
    "│   │   ├── f1_score  \n",
    "│   │   ├── log_loss  \n",
    "│   │   ├── mean_absolute_error  \n",
    "│   │   ├── mean_squared_error  \n",
    "│   │   └── roc_auc_score  \n",
    "│   │  \n",
    "│   └── model (정의된 모델에서 추출)  \n",
    "│       ├── predict  \n",
    "│       └── predict_proba  \n",
    "│  \n",
    "└── 05 최종앙상블  \n",
    "    │  \n",
    "    └── ensemble  \n",
    "        ├── StackingClassifier  \n",
    "        ├── StackingRegressor  \n",
    "        ├── VotingClassifier  \n",
    "        └── VotingRegressor  "
   ]
  },
  {
   "cell_type": "markdown",
   "id": "253464fc",
   "metadata": {},
   "source": [
    "### 01 데이터 전처리\n",
    "###  02 모델링 전처리\n",
    "### 03 모델링\n",
    "### 04 모델 평가\n",
    "### 05 최종 앙상블"
   ]
  },
  {
   "cell_type": "code",
   "execution_count": null,
   "id": "42777e69",
   "metadata": {},
   "outputs": [],
   "source": []
  }
 ],
 "metadata": {
  "kernelspec": {
   "display_name": "Python 3",
   "language": "python",
   "name": "python3"
  },
  "language_info": {
   "codemirror_mode": {
    "name": "ipython",
    "version": 3
   },
   "file_extension": ".py",
   "mimetype": "text/x-python",
   "name": "python",
   "nbconvert_exporter": "python",
   "pygments_lexer": "ipython3",
   "version": "3.8.8"
  }
 },
 "nbformat": 4,
 "nbformat_minor": 5
}
