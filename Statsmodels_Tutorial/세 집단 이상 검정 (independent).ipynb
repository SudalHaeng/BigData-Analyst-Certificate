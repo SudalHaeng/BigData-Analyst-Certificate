{
 "cells": [
  {
   "cell_type": "markdown",
   "id": "d6f85a2f",
   "metadata": {},
   "source": [
    "### 정규성(scipy.stats.shapiro), 등분산(scipy.stats.levene) 검정의 결과에 따라 시행하는 검정이 다르다\n",
    "#### 정규성 만족, 등분산 만족 : one-way anova\n",
    "#### 정규성 만족, 등분산 불만족 : welch’s anova\n",
    "#### 정규성 불만족 : kruskal-wallis H test"
   ]
  },
  {
   "cell_type": "markdown",
   "id": "4bd926d2",
   "metadata": {},
   "source": [
    "### Question\n",
    "\n",
    "#### x1,x2,x3의 변수들의 평균의 차이가 존재하는지 검정하라.\n",
    "#### 차이가 존재한다면 사후 분석까지 진행하라"
   ]
  },
  {
   "cell_type": "code",
   "execution_count": 1,
   "id": "32411a0b",
   "metadata": {},
   "outputs": [
    {
     "data": {
      "image/png": "[encoded data removed]",
      "text/plain": [
       "<Figure size 864x288 with 2 Axes>"
      ]
     },
     "metadata": {
      "needs_background": "light"
     },
     "output_type": "display_data"
    }
   ],
   "source": [
    "import pandas as pd \n",
    "import matplotlib.pyplot as plt\n",
    "df = pd.read_csv('https://raw.githubusercontent.com/Datamanim/datarepo/main/scipy/anova.csv')\n",
    "\n",
    "data = df.x1\n",
    "data2 = df.x2\n",
    "data3 = df.x3\n",
    "\n",
    "fig,ax = plt.subplots(1,2,figsize=(12,4))\n",
    "ax[0].hist(data,alpha=0.3,bins=30,label='x1')\n",
    "ax[0].hist(data2,alpha=0.3,bins=30,label='x2')\n",
    "ax[0].hist(data3,alpha=0.3,bins=30,label='x3')\n",
    "ax[0].legend()\n",
    "labels = ['x1', 'x2', 'x3']\n",
    "lst =[data,data2,data3]\n",
    "ax[1].boxplot(lst, labels=labels) \n",
    "plt.show()"
   ]
  },
  {
   "cell_type": "code",
   "execution_count": 2,
   "id": "8c376bed",
   "metadata": {},
   "outputs": [
    {
     "name": "stdout",
     "output_type": "stream",
     "text": [
      "ShapiroResult(statistic=0.9979788064956665, pvalue=0.27388232946395874)\n",
      "ShapiroResult(statistic=0.9979414939880371, pvalue=0.25899720191955566)\n",
      "ShapiroResult(statistic=0.9987626671791077, pvalue=0.7304413914680481)\n"
     ]
    }
   ],
   "source": [
    "# 정규성 검정\n",
    "from scipy.stats import shapiro\n",
    "\n",
    "print(shapiro(data))\n",
    "print(shapiro(data2))\n",
    "print(shapiro(data3))"
   ]
  },
  {
   "cell_type": "markdown",
   "id": "d363a5c7",
   "metadata": {},
   "source": [
    "#### 세 집단 모두 p-value 값이 0.05보다 크므로 귀무가설(정규성을 가진다)을 기각할 수 없다.\n",
    "#### 따라서 세 집단 모두 정규성을 가진다."
   ]
  },
  {
   "cell_type": "code",
   "execution_count": 3,
   "id": "a07cf7c5",
   "metadata": {},
   "outputs": [
    {
     "name": "stdout",
     "output_type": "stream",
     "text": [
      "LeveneResult(statistic=2.71270174202054, pvalue=0.06652021922816238)\n"
     ]
    }
   ],
   "source": [
    "from scipy.stats import levene\n",
    "\n",
    "print(levene(data,data2,data3))"
   ]
  },
  {
   "cell_type": "markdown",
   "id": "3bec4fbf",
   "metadata": {},
   "source": [
    "#### levene 검정 결과 p-value가 0.05보다 크므로 귀무가설 (등분산성을 만족한다)을 기각할 수 없다.\n",
    "#### 따라서 등분산성을 만족한다."
   ]
  },
  {
   "cell_type": "code",
   "execution_count": 4,
   "id": "f5a52c0f",
   "metadata": {},
   "outputs": [
    {
     "name": "stdout",
     "output_type": "stream",
     "text": [
      "                 df        sum_sq       mean_sq           F        PR(>F)\n",
      "C(variable)     2.0  3.774347e+06  1.887173e+06  209.884999  4.919153e-86\n",
      "Residual     2997.0  2.694742e+07  8.991464e+03         NaN           NaN\n"
     ]
    }
   ],
   "source": [
    "# anova 방법 1 \n",
    "from statsmodels.formula.api import ols\n",
    "from statsmodels.stats.anova import anova_lm\n",
    "\n",
    "dfm =df.melt()\n",
    "dfm.head()\n",
    "model = ols('value ~ C(variable)', dfm).fit()\n",
    "print(anova_lm(model))"
   ]
  },
  {
   "cell_type": "code",
   "execution_count": 5,
   "id": "ab2b1a33",
   "metadata": {},
   "outputs": [
    {
     "name": "stdout",
     "output_type": "stream",
     "text": [
      "F_onewayResult(statistic=209.88499932318638, pvalue=4.919152988455592e-86)\n"
     ]
    }
   ],
   "source": [
    "# anova 방법 2 (scipy.stats.f_oneway)\n",
    "from scipy.stats import f_oneway \n",
    "\n",
    "print(f_oneway(data, data2, data3))"
   ]
  },
  {
   "cell_type": "markdown",
   "id": "62f7852b",
   "metadata": {},
   "source": [
    "#### p-value 는 4.9e-86이므로 세 그룹 중 어느 두 그룹은 평균이 동일하다고 볼 수 없다."
   ]
  },
  {
   "cell_type": "code",
   "execution_count": 6,
   "id": "f03d2a91",
   "metadata": {},
   "outputs": [
    {
     "name": "stdout",
     "output_type": "stream",
     "text": [
      " Multiple Comparison of Means - Tukey HSD, FWER=0.05 \n",
      "=====================================================\n",
      "group1 group2 meandiff p-adj  lower    upper   reject\n",
      "-----------------------------------------------------\n",
      "    x1     x2  86.8388 0.001   76.895  96.7826   True\n",
      "    x1     x3  45.8253 0.001  35.8815  55.7691   True\n",
      "    x2     x3 -41.0135 0.001 -50.9572 -31.0697   True\n",
      "-----------------------------------------------------\n"
     ]
    }
   ],
   "source": [
    "#사후검정 방법 1 투키의 HSD\n",
    "from statsmodels.stats.multicomp import pairwise_tukeyhsd\n",
    "\n",
    "posthoc = pairwise_tukeyhsd(dfm.value, dfm.variable, alpha=0.05)\n",
    "print(posthoc)"
   ]
  },
  {
   "cell_type": "markdown",
   "id": "a55d0e3c",
   "metadata": {},
   "source": [
    "#### 유의수준 5%기준으로 도표상의 reject을 보면 group간에 모든 귀무가설(두 그룹의 평균은 같다)을 기각 하는 것을 볼수 있다"
   ]
  },
  {
   "cell_type": "code",
   "execution_count": 7,
   "id": "0deed383",
   "metadata": {},
   "outputs": [
    {
     "name": "stderr",
     "output_type": "stream",
     "text": [
      "C:\\Users\\wnsgo\\anaconda3\\lib\\site-packages\\statsmodels\\sandbox\\stats\\multicomp.py:775: UserWarning: FixedFormatter should only be used together with FixedLocator\n",
      "  ax1.set_yticklabels(np.insert(self.groupsunique.astype(str), 0, ''))\n"
     ]
    },
    {
     "data": {
      "image/png": "[encoded data removed]",
      "text/plain": [
       "<Figure size 720x432 with 1 Axes>"
      ]
     },
     "metadata": {
      "needs_background": "light"
     },
     "output_type": "display_data"
    }
   ],
   "source": [
    "fig = posthoc.plot_simultaneous()\n",
    "plt.show()"
   ]
  },
  {
   "cell_type": "markdown",
   "id": "03c83352",
   "metadata": {},
   "source": [
    "#### 시각화 y축은 각 label이다. 겹치는 구간이 없으므로 차이가 존재함을 알수 있음"
   ]
  },
  {
   "cell_type": "code",
   "execution_count": 8,
   "id": "25115103",
   "metadata": {},
   "outputs": [
    {
     "name": "stdout",
     "output_type": "stream",
     "text": [
      "Test Multiple Comparison ttest_ind \n",
      "FWER=0.05 method=bonf\n",
      "alphacSidak=0.02, alphacBonf=0.017\n",
      "============================================\n",
      "group1 group2   stat   pval pval_corr reject\n",
      "--------------------------------------------\n",
      "    x1     x2 -20.2943  0.0       0.0   True\n",
      "    x1     x3 -10.6639  0.0       0.0   True\n",
      "    x2     x3    9.897  0.0       0.0   True\n",
      "--------------------------------------------\n"
     ]
    }
   ],
   "source": [
    "# 사후 검정 방법 2 봉페로니 교정\n",
    "from statsmodels.sandbox.stats.multicomp import MultiComparison\n",
    "import scipy.stats\n",
    "\n",
    "comp = MultiComparison(dfm.value, dfm.variable)\n",
    "result = comp.allpairtest(scipy.stats.ttest_ind, method='bonf')\n",
    "print(result[0])"
   ]
  },
  {
   "cell_type": "markdown",
   "id": "6771e1b4",
   "metadata": {},
   "source": [
    "### Question\n",
    "\n",
    "#### x1,x2,x3의 변수들의 평균의 차이가 존재하는지 검정하라"
   ]
  },
  {
   "cell_type": "code",
   "execution_count": 9,
   "id": "3654f3c7",
   "metadata": {},
   "outputs": [
    {
     "data": {
      "image/png": "[encoded data removed]",
      "text/plain": [
       "<Figure size 864x288 with 2 Axes>"
      ]
     },
     "metadata": {
      "needs_background": "light"
     },
     "output_type": "display_data"
    }
   ],
   "source": [
    "import pandas as pd \n",
    "import matplotlib.pyplot as plt\n",
    "df = pd.read_csv('https://raw.githubusercontent.com/Datamanim/datarepo/main/scipy/anova2.csv')\n",
    "\n",
    "data = df.x1\n",
    "data2 = df.x2\n",
    "data3 = df.x3\n",
    "\n",
    "fig,ax = plt.subplots(1,2,figsize=(12,4))\n",
    "ax[0].hist(data,alpha=0.3,bins=30,label='x1')\n",
    "ax[0].hist(data2,alpha=0.3,bins=30,label='x2')\n",
    "ax[0].hist(data3,alpha=0.3,bins=30,label='x3')\n",
    "ax[0].legend()\n",
    "labels = ['x1', 'x2', 'x3']\n",
    "lst =[data,data2,data3]\n",
    "ax[1].boxplot(lst, labels=labels) \n",
    "plt.show()"
   ]
  },
  {
   "cell_type": "code",
   "execution_count": 10,
   "id": "1fe3e4b6",
   "metadata": {},
   "outputs": [
    {
     "name": "stdout",
     "output_type": "stream",
     "text": [
      "ShapiroResult(statistic=0.9886646866798401, pvalue=0.5584300756454468)\n",
      "ShapiroResult(statistic=0.992436408996582, pvalue=0.8518696427345276)\n",
      "ShapiroResult(statistic=0.9848726987838745, pvalue=0.31093811988830566)\n"
     ]
    }
   ],
   "source": [
    "from scipy.stats import shapiro\n",
    "\n",
    "print(shapiro(data))\n",
    "print(shapiro(data2))\n",
    "print(shapiro(data3))"
   ]
  },
  {
   "cell_type": "markdown",
   "id": "d5482ed5",
   "metadata": {},
   "source": [
    "#### 정규성 검정 -> 모두 정규성을 가짐"
   ]
  },
  {
   "cell_type": "code",
   "execution_count": 11,
   "id": "416716d2",
   "metadata": {},
   "outputs": [
    {
     "name": "stdout",
     "output_type": "stream",
     "text": [
      "LeveneResult(statistic=1.845797549925243, pvalue=0.15970603203148068)\n"
     ]
    }
   ],
   "source": [
    "from scipy.stats import levene\n",
    "\n",
    "print(levene(data,data2,data3))"
   ]
  },
  {
   "cell_type": "markdown",
   "id": "2a813a1b",
   "metadata": {},
   "source": [
    "#### 등분산 만족한다"
   ]
  },
  {
   "cell_type": "code",
   "execution_count": 12,
   "id": "4ea3b898",
   "metadata": {},
   "outputs": [
    {
     "name": "stdout",
     "output_type": "stream",
     "text": [
      "                df         sum_sq      mean_sq         F    PR(>F)\n",
      "C(variable)    2.0    4856.241506  2428.120753  2.386153  0.093744\n",
      "Residual     297.0  302223.696757  1017.588205       NaN       NaN\n"
     ]
    }
   ],
   "source": [
    "# anova 방법 1 \n",
    "from statsmodels.formula.api import ols\n",
    "from statsmodels.stats.anova import anova_lm\n",
    "\n",
    "dfm =df.melt()\n",
    "dfm.head()\n",
    "model = ols('value ~ C(variable)', dfm).fit()\n",
    "print(anova_lm(model))"
   ]
  },
  {
   "cell_type": "code",
   "execution_count": 13,
   "id": "336f0bd1",
   "metadata": {},
   "outputs": [
    {
     "name": "stdout",
     "output_type": "stream",
     "text": [
      "F_onewayResult(statistic=2.386152612702158, pvalue=0.09374426938585284)\n"
     ]
    }
   ],
   "source": [
    "# anova 방법 2 (scipy.stats.f_oneway)\n",
    "from scipy.stats import f_oneway\n",
    "\n",
    "print(f_oneway(data, data2, data3))"
   ]
  },
  {
   "cell_type": "markdown",
   "id": "c9b5b08d",
   "metadata": {},
   "source": [
    "#### p-value 는 0.09이므로 귀무가설을 기각할 수 없다. 3그룹은 평균이 동일하다고 볼 수 있다."
   ]
  },
  {
   "cell_type": "markdown",
   "id": "31638bf8",
   "metadata": {},
   "source": [
    "### Question\n",
    "\n",
    "#### target 변수들에 의해 value값들의 평균의 차이가 존재하는지 검정하라"
   ]
  },
  {
   "cell_type": "code",
   "execution_count": 14,
   "id": "f00e6cfb",
   "metadata": {
    "scrolled": true
   },
   "outputs": [
    {
     "data": {
      "image/png": "[encoded data removed]",
      "text/plain": [
       "<Figure size 864x288 with 2 Axes>"
      ]
     },
     "metadata": {
      "needs_background": "light"
     },
     "output_type": "display_data"
    }
   ],
   "source": [
    "import pandas as pd \n",
    "import matplotlib.pyplot as plt\n",
    "df = pd.read_csv('https://raw.githubusercontent.com/Datamanim/datarepo/main/scipy/anova8.csv')\n",
    "\n",
    "data = df[df.target=='a'].value\n",
    "data2 = df[df.target=='b'].value\n",
    "data3 = df[df.target=='c'].value\n",
    "\n",
    "fig,ax = plt.subplots(1,2,figsize=(12,4))\n",
    "ax[0].hist(data,alpha=0.3,bins=30,label='a')\n",
    "ax[0].hist(data2,alpha=0.3,bins=30,label='b')\n",
    "ax[0].hist(data3,alpha=0.3,bins=30,label='c')\n",
    "ax[0].legend()\n",
    "labels = ['a', 'b', 'c']\n",
    "lst =[data,data2,data3]\n",
    "ax[1].boxplot(lst, labels=labels) \n",
    "plt.show()"
   ]
  },
  {
   "cell_type": "code",
   "execution_count": 15,
   "id": "626ad56a",
   "metadata": {},
   "outputs": [
    {
     "name": "stdout",
     "output_type": "stream",
     "text": [
      "ShapiroResult(statistic=0.9666388034820557, pvalue=0.01229821890592575)\n",
      "ShapiroResult(statistic=0.9713969230651855, pvalue=0.1093384176492691)\n",
      "ShapiroResult(statistic=0.9651245474815369, pvalue=0.4156579077243805)\n"
     ]
    }
   ],
   "source": [
    "from scipy.stats import shapiro\n",
    "\n",
    "print(shapiro(data))\n",
    "print(shapiro(data2))\n",
    "print(shapiro(data3))"
   ]
  },
  {
   "cell_type": "markdown",
   "id": "d037fa55",
   "metadata": {},
   "source": [
    "#### 정규성 검정 -> 하나의 변수가 정규성을 가지지 않는다. -> 비모수 검정인 kruskal 검정을 사용해야한다"
   ]
  },
  {
   "cell_type": "code",
   "execution_count": 16,
   "id": "d60a4fcb",
   "metadata": {},
   "outputs": [
    {
     "name": "stdout",
     "output_type": "stream",
     "text": [
      "LeveneResult(statistic=1.4817966330841852, pvalue=0.2297504921313145)\n"
     ]
    }
   ],
   "source": [
    "from scipy.stats import levene\n",
    "\n",
    "print(levene(data,data2,data3))"
   ]
  },
  {
   "cell_type": "markdown",
   "id": "4640043c",
   "metadata": {},
   "source": [
    "#### 등분산 만족한다"
   ]
  },
  {
   "cell_type": "code",
   "execution_count": 17,
   "id": "13d4910e",
   "metadata": {},
   "outputs": [
    {
     "name": "stdout",
     "output_type": "stream",
     "text": [
      "F_onewayResult(statistic=2.7145676300093733, pvalue=0.06871171968864054)\n",
      "KruskalResult(statistic=6.9277037668798584, pvalue=0.03130893110123)\n"
     ]
    }
   ],
   "source": [
    "# anova\n",
    "from scipy.stats import f_oneway  ,kruskal\n",
    "print(f_oneway(data, data2, data3))\n",
    "print(kruskal(data, data2, data3))\n",
    "\n"
   ]
  },
  {
   "cell_type": "markdown",
   "id": "a22eda37",
   "metadata": {},
   "source": [
    "#### 비교를 위해 f_oneway 와 kruskal 모두 시행했다.\n",
    "#### kruskal의 경우 평균의 차이가 존재, f_oneway의 경우 차이가 존재하지 않는다"
   ]
  },
  {
   "cell_type": "markdown",
   "id": "25c2a47c",
   "metadata": {},
   "source": [
    "### Question\n",
    "\n",
    "#### target 변수들에 의해 value값들의 평균의 차이가 존재하는지 검정하라"
   ]
  },
  {
   "cell_type": "code",
   "execution_count": 18,
   "id": "1648a833",
   "metadata": {},
   "outputs": [
    {
     "data": {
      "image/png": "[encoded data removed]",
      "text/plain": [
       "<Figure size 864x288 with 2 Axes>"
      ]
     },
     "metadata": {
      "needs_background": "light"
     },
     "output_type": "display_data"
    }
   ],
   "source": [
    "import pandas as pd \n",
    "import matplotlib.pyplot as plt\n",
    "df = pd.read_csv('https://raw.githubusercontent.com/Datamanim/datarepo/main/scipy/anova10.csv')\n",
    "\n",
    "data = df[df.target=='a'].value\n",
    "data2 = df[df.target=='b'].value\n",
    "data3 = df[df.target=='c'].value\n",
    "\n",
    "fig,ax = plt.subplots(1,2,figsize=(12,4))\n",
    "ax[0].hist(data,alpha=0.3,bins=30,label='a')\n",
    "ax[0].hist(data2,alpha=0.3,bins=30,label='b')\n",
    "ax[0].hist(data3,alpha=0.3,bins=30,label='c')\n",
    "ax[0].legend()\n",
    "labels = ['a', 'b', 'c']\n",
    "lst =[data,data2,data3]\n",
    "ax[1].boxplot(lst, labels=labels) \n",
    "plt.show()"
   ]
  },
  {
   "cell_type": "code",
   "execution_count": 19,
   "id": "de6aadfa",
   "metadata": {},
   "outputs": [
    {
     "name": "stdout",
     "output_type": "stream",
     "text": [
      "ShapiroResult(statistic=0.9835558533668518, pvalue=0.24877400696277618)\n",
      "ShapiroResult(statistic=0.9923046231269836, pvalue=0.9479172825813293)\n",
      "ShapiroResult(statistic=0.952351450920105, pvalue=0.19536875188350677)\n"
     ]
    }
   ],
   "source": [
    "from scipy.stats import shapiro\n",
    "\n",
    "print(shapiro(data))\n",
    "print(shapiro(data2))\n",
    "print(shapiro(data3))"
   ]
  },
  {
   "cell_type": "markdown",
   "id": "40b96c8a",
   "metadata": {},
   "source": [
    "#### 정규성 검정 -> 정규성 가짐"
   ]
  },
  {
   "cell_type": "code",
   "execution_count": 20,
   "id": "23c403b1",
   "metadata": {},
   "outputs": [
    {
     "name": "stdout",
     "output_type": "stream",
     "text": [
      "LeveneResult(statistic=4.530341210288782, pvalue=0.011923468290294031)\n"
     ]
    }
   ],
   "source": [
    "from scipy.stats import levene\n",
    "\n",
    "print(levene(data,data2,data3))"
   ]
  },
  {
   "cell_type": "markdown",
   "id": "e7b75c92",
   "metadata": {},
   "source": [
    "#### 등분산 만족하지 않음 -> welch test를 진행해야한다 (pingouin.welch_anova)"
   ]
  },
  {
   "cell_type": "code",
   "execution_count": 21,
   "id": "004c63d0",
   "metadata": {},
   "outputs": [
    {
     "name": "stdout",
     "output_type": "stream",
     "text": [
      "F_onewayResult(statistic=3.0058619004231084, pvalue=0.051771776524375666)\n",
      "KruskalResult(statistic=7.273258848614091, pvalue=0.026340978769385875)\n"
     ]
    }
   ],
   "source": [
    "# anova\n",
    "from scipy.stats import f_oneway  ,kruskal\n",
    "\n",
    "print(f_oneway(data, data2, data3))\n",
    "print(kruskal(data, data2, data3))"
   ]
  },
  {
   "cell_type": "markdown",
   "id": "1f41a00a",
   "metadata": {},
   "source": [
    "#### 비교를 위해 f_oneway 와 kruskal 모두 시행했다.\n",
    "#### kruskal의 경우 평균의 차이가 존재, f_oneway, welch(p-unc값)의 경우 차이가 존재하지 않는다"
   ]
  },
  {
   "cell_type": "code",
   "execution_count": null,
   "id": "9835ab77",
   "metadata": {},
   "outputs": [],
   "source": []
  }
 ],
 "metadata": {
  "kernelspec": {
   "display_name": "Python 3",
   "language": "python",
   "name": "python3"
  },
  "language_info": {
   "codemirror_mode": {
    "name": "ipython",
    "version": 3
   },
   "file_extension": ".py",
   "mimetype": "text/x-python",
   "name": "python",
   "nbconvert_exporter": "python",
   "pygments_lexer": "ipython3",
   "version": "3.8.8"
  }
 },
 "nbformat": 4,
 "nbformat_minor": 5
}
