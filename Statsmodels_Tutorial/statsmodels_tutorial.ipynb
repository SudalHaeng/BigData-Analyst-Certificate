{
 "cells": [
  {
   "cell_type": "code",
   "execution_count": 1,
   "id": "cd05b873",
   "metadata": {},
   "outputs": [],
   "source": [
    "import statsmodels"
   ]
  },
  {
   "cell_type": "markdown",
   "id": "88869c0f",
   "metadata": {},
   "source": [
    "### 자주 쓰는 모델 확인"
   ]
  },
  {
   "cell_type": "code",
   "execution_count": 2,
   "id": "0912d396",
   "metadata": {},
   "outputs": [
    {
     "name": "stdout",
     "output_type": "stream",
     "text": [
      "Help on package statsmodels:\n",
      "\n",
      "NAME\n",
      "    statsmodels\n",
      "\n",
      "PACKAGE CONTENTS\n",
      "    _version\n",
      "    api\n",
      "    base (package)\n",
      "    compat (package)\n",
      "    conftest\n",
      "    datasets (package)\n",
      "    discrete (package)\n",
      "    distributions (package)\n",
      "    duration (package)\n",
      "    emplike (package)\n",
      "    formula (package)\n",
      "    gam (package)\n",
      "    genmod (package)\n",
      "    graphics (package)\n",
      "    imputation (package)\n",
      "    interface (package)\n",
      "    iolib (package)\n",
      "    miscmodels (package)\n",
      "    multivariate (package)\n",
      "    nonparametric (package)\n",
      "    regression (package)\n",
      "    robust (package)\n",
      "    sandbox (package)\n",
      "    src (package)\n",
      "    stats (package)\n",
      "    tests (package)\n",
      "    tools (package)\n",
      "    tsa (package)\n",
      "\n",
      "FUNCTIONS\n",
      "    test(extra_args=None, exit=False)\n",
      "        Run the test suite\n",
      "        \n",
      "        Parameters\n",
      "        ----------\n",
      "        extra_args : list[str]\n",
      "            List of argument to pass to pytest when running the test suite. The\n",
      "            default is ['--tb=short', '--disable-pytest-warnings'].\n",
      "        exit : bool\n",
      "            Flag indicating whether the test runner should exist when finished.\n",
      "        \n",
      "        Returns\n",
      "        -------\n",
      "        int\n",
      "            The status code from the test run if exit is False.\n",
      "\n",
      "DATA\n",
      "    debug_warnings = False\n",
      "\n",
      "VERSION\n",
      "    0.12.2\n",
      "\n",
      "FILE\n",
      "    c:\\users\\wnsgo\\anaconda3\\lib\\site-packages\\statsmodels\\__init__.py\n",
      "\n",
      "\n"
     ]
    }
   ],
   "source": [
    "help(statsmodels)"
   ]
  },
  {
   "cell_type": "code",
   "execution_count": null,
   "id": "da0541e7",
   "metadata": {},
   "outputs": [],
   "source": []
  }
 ],
 "metadata": {
  "kernelspec": {
   "display_name": "Python 3",
   "language": "python",
   "name": "python3"
  },
  "language_info": {
   "codemirror_mode": {
    "name": "ipython",
    "version": 3
   },
   "file_extension": ".py",
   "mimetype": "text/x-python",
   "name": "python",
   "nbconvert_exporter": "python",
   "pygments_lexer": "ipython3",
   "version": "3.8.8"
  }
 },
 "nbformat": 4,
 "nbformat_minor": 5
}
