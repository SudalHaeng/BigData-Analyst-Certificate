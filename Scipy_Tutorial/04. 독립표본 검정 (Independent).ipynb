{
 "cells": [
  {
   "cell_type": "markdown",
   "id": "af600f69",
   "metadata": {},
   "source": [
    "독립 표본 t검정의 경우 집단의 정규성에 따라 접근방식이 다르다  \n",
    "정규성 검정은 shapiro , anderson(샘플 5000개 이상) 을 통해 확인  \n",
    "  \n",
    "      \n",
    "- 데이터가 정규성을 가지는 경우(모수적 검정)  \n",
    "두 집단의 등분산 검정을 한 후  \n",
    "from scipy.stats import ttest_ind  \n",
    "  \n",
    "- 등분산일 경우  \n",
    "![등분산0](https://github.com/SudalHaeng/BigData-Analyst-Certificate/blob/main/img/img01.JPG?raw=true)\n",
    "  \n",
    "- 등분산이 아닐 경우  \n",
    "![등분산X](https://github.com/SudalHaeng/BigData-Analyst-Certificate/blob/main/img/img02.JPG?raw=true)\n",
    "  \n",
    "데이터가 정규성을 가지지 않는 경우 (비모수적 검정)  "
   ]
  },
  {
   "cell_type": "markdown",
   "id": "1efc6a1c",
   "metadata": {},
   "source": [
    "### Question\n",
    "\n",
    "#### 두 개 학급의 시험성적에 대한 데이터이다. 두 학습의 시험 평균(비모수검정의 경우 중위값)은 동일하다 말할 수 있는지 확인 하라"
   ]
  },
  {
   "cell_type": "code",
   "execution_count": 1,
   "id": "7d06bf09",
   "metadata": {},
   "outputs": [],
   "source": [
    "import pandas as pd \n",
    "\n",
    "df1 = pd.read_csv('https://raw.githubusercontent.com/Datamanim/datarepo/main/scipy/ind1.csv')\n",
    "df2 = pd.read_csv('https://raw.githubusercontent.com/Datamanim/datarepo/main/scipy/ind2.csv')"
   ]
  },
  {
   "cell_type": "code",
   "execution_count": 2,
   "id": "b83bb5ed",
   "metadata": {},
   "outputs": [
    {
     "data": {
      "image/png": "[encoded data removed]",
      "text/plain": [
       "<Figure size 432x288 with 1 Axes>"
      ]
     },
     "metadata": {
      "needs_background": "light"
     },
     "output_type": "display_data"
    }
   ],
   "source": [
    "import matplotlib.pyplot as plt\n",
    "\n",
    "plt.hist(df1,label='df1',alpha=0.4)\n",
    "plt.hist(df2,label=\"df2\",alpha=0.4)\n",
    "plt.xlabel('Score bins')\n",
    "plt.ylabel('Counts')\n",
    "plt.legend()\n",
    "plt.show()"
   ]
  },
  {
   "cell_type": "code",
   "execution_count": 4,
   "id": "558907bc",
   "metadata": {},
   "outputs": [
    {
     "name": "stdout",
     "output_type": "stream",
     "text": [
      "0.37968069314956665\n",
      "0.6793646216392517\n"
     ]
    }
   ],
   "source": [
    "from scipy.stats import shapiro\n",
    "print(shapiro(df1).pvalue)\n",
    "print(shapiro(df2).pvalue)"
   ]
  },
  {
   "cell_type": "markdown",
   "id": "1a581784",
   "metadata": {},
   "source": [
    "### Shapiro 검정 결과\n",
    "#### 두 그룹 모두 귀무가설을 기각하지 못한다.\n",
    "#### 따라서 두 그룹 모두 정규성을 가진다."
   ]
  },
  {
   "cell_type": "markdown",
   "id": "fb41a27d",
   "metadata": {},
   "source": [
    "### Question\n",
    "\n",
    "#### 두 개 학급의 시험성적에 대한 데이터이다. 두 학습의 시험 평균(비모수검정의 경우 중위값)은 동일하다 말할 수 있는지 확인 하라"
   ]
  },
  {
   "cell_type": "code",
   "execution_count": 2,
   "id": "45b53d8c",
   "metadata": {},
   "outputs": [
    {
     "data": {
      "text/html": [
       "<div>\n",
       "<style scoped>\n",
       "    .dataframe tbody tr th:only-of-type {\n",
       "        vertical-align: middle;\n",
       "    }\n",
       "\n",
       "    .dataframe tbody tr th {\n",
       "        vertical-align: top;\n",
       "    }\n",
       "\n",
       "    .dataframe thead th {\n",
       "        text-align: right;\n",
       "    }\n",
       "</style>\n",
       "<table border=\"1\" class=\"dataframe\">\n",
       "  <thead>\n",
       "    <tr style=\"text-align: right;\">\n",
       "      <th></th>\n",
       "      <th>A</th>\n",
       "      <th>B</th>\n",
       "    </tr>\n",
       "  </thead>\n",
       "  <tbody>\n",
       "    <tr>\n",
       "      <th>0</th>\n",
       "      <td>74</td>\n",
       "      <td>30.0</td>\n",
       "    </tr>\n",
       "    <tr>\n",
       "      <th>1</th>\n",
       "      <td>30</td>\n",
       "      <td>59.0</td>\n",
       "    </tr>\n",
       "    <tr>\n",
       "      <th>2</th>\n",
       "      <td>35</td>\n",
       "      <td>69.0</td>\n",
       "    </tr>\n",
       "    <tr>\n",
       "      <th>3</th>\n",
       "      <td>45</td>\n",
       "      <td>88.0</td>\n",
       "    </tr>\n",
       "    <tr>\n",
       "      <th>4</th>\n",
       "      <td>74</td>\n",
       "      <td>68.0</td>\n",
       "    </tr>\n",
       "    <tr>\n",
       "      <th>...</th>\n",
       "      <td>...</td>\n",
       "      <td>...</td>\n",
       "    </tr>\n",
       "    <tr>\n",
       "      <th>295</th>\n",
       "      <td>80</td>\n",
       "      <td>NaN</td>\n",
       "    </tr>\n",
       "    <tr>\n",
       "      <th>296</th>\n",
       "      <td>30</td>\n",
       "      <td>NaN</td>\n",
       "    </tr>\n",
       "    <tr>\n",
       "      <th>297</th>\n",
       "      <td>91</td>\n",
       "      <td>NaN</td>\n",
       "    </tr>\n",
       "    <tr>\n",
       "      <th>298</th>\n",
       "      <td>84</td>\n",
       "      <td>NaN</td>\n",
       "    </tr>\n",
       "    <tr>\n",
       "      <th>299</th>\n",
       "      <td>57</td>\n",
       "      <td>NaN</td>\n",
       "    </tr>\n",
       "  </tbody>\n",
       "</table>\n",
       "<p>300 rows × 2 columns</p>\n",
       "</div>"
      ],
      "text/plain": [
       "      A     B\n",
       "0    74  30.0\n",
       "1    30  59.0\n",
       "2    35  69.0\n",
       "3    45  88.0\n",
       "4    74  68.0\n",
       "..   ..   ...\n",
       "295  80   NaN\n",
       "296  30   NaN\n",
       "297  91   NaN\n",
       "298  84   NaN\n",
       "299  57   NaN\n",
       "\n",
       "[300 rows x 2 columns]"
      ]
     },
     "execution_count": 2,
     "metadata": {},
     "output_type": "execute_result"
    }
   ],
   "source": [
    "import pandas as pd \n",
    "\n",
    "df = pd.read_csv('https://raw.githubusercontent.com/Datamanim/datarepo/main/scipy/scipy5.csv')\n",
    "df"
   ]
  },
  {
   "cell_type": "code",
   "execution_count": 3,
   "id": "b30280b4",
   "metadata": {},
   "outputs": [
    {
     "data": {
      "image/png": "[encoded data removed]",
      "text/plain": [
       "<Figure size 432x288 with 1 Axes>"
      ]
     },
     "metadata": {
      "needs_background": "light"
     },
     "output_type": "display_data"
    }
   ],
   "source": [
    "import matplotlib.pyplot as plt\n",
    "\n",
    "plt.hist(df['A'],alpha=0.5,label='A')\n",
    "plt.hist(df['B'].dropna(),alpha=0.5,label=\"B\")\n",
    "plt.xlabel('Score bins')\n",
    "plt.ylabel('Counts')\n",
    "plt.legend()\n",
    "plt.show()"
   ]
  },
  {
   "cell_type": "code",
   "execution_count": 4,
   "id": "f51b90e2",
   "metadata": {},
   "outputs": [
    {
     "name": "stdout",
     "output_type": "stream",
     "text": [
      "ShapiroResult(statistic=0.9639440774917603, pvalue=0.00013570845476351678)\n",
      "ShapiroResult(statistic=0.93753981590271, pvalue=6.175894240456614e-10)\n"
     ]
    }
   ],
   "source": [
    "from scipy.stats import shapiro\n",
    "\n",
    "print(shapiro(df['B'].dropna()))\n",
    "print(shapiro(df['A']))"
   ]
  },
  {
   "cell_type": "markdown",
   "id": "24d20ff9",
   "metadata": {},
   "source": [
    "#### 두 그룹 모두 Shapiro검정 결과 귀무가설(정규성을 가진다)을 기각한다.\n",
    "#### 정규성을 위배한다. 그러므로 비모수 검정을 실시해야한다."
   ]
  },
  {
   "cell_type": "code",
   "execution_count": 5,
   "id": "95a98296",
   "metadata": {},
   "outputs": [
    {
     "name": "stdout",
     "output_type": "stream",
     "text": [
      "MannwhitneyuResult(statistic=26964.0, pvalue=0.4903729188075009)\n",
      "RanksumsResult(statistic=0.02446942170858557, pvalue=0.9804781743503561)\n"
     ]
    }
   ],
   "source": [
    "from scipy.stats import mannwhitneyu , ranksums\n",
    "\n",
    "print(mannwhitneyu(df['A'],df['B'].dropna()))\n",
    "print(ranksums(df['A'],df['B'].dropna()))"
   ]
  },
  {
   "cell_type": "markdown",
   "id": "9c4a09a0",
   "metadata": {},
   "source": [
    "#### Mann-Whitney U Test 검정 결과 pvalue는 0.49값으로 귀무가설(\"평균은 같다\")를 기각 할 수 없다.\n",
    "#### 두 그룹의 평균은 동일하다 말할 수 있다. \n",
    "#### 윌콕슨 순위합 검정(ranksums)으로 확인 해봐도 같은 결과가 나온다."
   ]
  },
  {
   "cell_type": "markdown",
   "id": "9b1bd237",
   "metadata": {},
   "source": [
    "### Question\n",
    "\n",
    "#### 두 개 그룹에 대한 수치형 데이터이다. 두 그룹의 평균은 동일하다 말할 수 있는지 검정하라"
   ]
  },
  {
   "cell_type": "code",
   "execution_count": 8,
   "id": "f30745d2",
   "metadata": {},
   "outputs": [
    {
     "data": {
      "text/html": [
       "<div>\n",
       "<style scoped>\n",
       "    .dataframe tbody tr th:only-of-type {\n",
       "        vertical-align: middle;\n",
       "    }\n",
       "\n",
       "    .dataframe tbody tr th {\n",
       "        vertical-align: top;\n",
       "    }\n",
       "\n",
       "    .dataframe thead th {\n",
       "        text-align: right;\n",
       "    }\n",
       "</style>\n",
       "<table border=\"1\" class=\"dataframe\">\n",
       "  <thead>\n",
       "    <tr style=\"text-align: right;\">\n",
       "      <th></th>\n",
       "      <th>group</th>\n",
       "      <th>data</th>\n",
       "    </tr>\n",
       "  </thead>\n",
       "  <tbody>\n",
       "    <tr>\n",
       "      <th>0</th>\n",
       "      <td>a</td>\n",
       "      <td>108.065847</td>\n",
       "    </tr>\n",
       "    <tr>\n",
       "      <th>1</th>\n",
       "      <td>a</td>\n",
       "      <td>88.714106</td>\n",
       "    </tr>\n",
       "    <tr>\n",
       "      <th>2</th>\n",
       "      <td>a</td>\n",
       "      <td>61.182748</td>\n",
       "    </tr>\n",
       "    <tr>\n",
       "      <th>3</th>\n",
       "      <td>a</td>\n",
       "      <td>51.763444</td>\n",
       "    </tr>\n",
       "    <tr>\n",
       "      <th>4</th>\n",
       "      <td>a</td>\n",
       "      <td>127.858730</td>\n",
       "    </tr>\n",
       "    <tr>\n",
       "      <th>...</th>\n",
       "      <td>...</td>\n",
       "      <td>...</td>\n",
       "    </tr>\n",
       "    <tr>\n",
       "      <th>185</th>\n",
       "      <td>b</td>\n",
       "      <td>100.192985</td>\n",
       "    </tr>\n",
       "    <tr>\n",
       "      <th>186</th>\n",
       "      <td>b</td>\n",
       "      <td>112.081790</td>\n",
       "    </tr>\n",
       "    <tr>\n",
       "      <th>187</th>\n",
       "      <td>b</td>\n",
       "      <td>83.148014</td>\n",
       "    </tr>\n",
       "    <tr>\n",
       "      <th>188</th>\n",
       "      <td>b</td>\n",
       "      <td>147.504761</td>\n",
       "    </tr>\n",
       "    <tr>\n",
       "      <th>189</th>\n",
       "      <td>b</td>\n",
       "      <td>117.412623</td>\n",
       "    </tr>\n",
       "  </tbody>\n",
       "</table>\n",
       "<p>190 rows × 2 columns</p>\n",
       "</div>"
      ],
      "text/plain": [
       "    group        data\n",
       "0       a  108.065847\n",
       "1       a   88.714106\n",
       "2       a   61.182748\n",
       "3       a   51.763444\n",
       "4       a  127.858730\n",
       "..    ...         ...\n",
       "185     b  100.192985\n",
       "186     b  112.081790\n",
       "187     b   83.148014\n",
       "188     b  147.504761\n",
       "189     b  117.412623\n",
       "\n",
       "[190 rows x 2 columns]"
      ]
     },
     "execution_count": 8,
     "metadata": {},
     "output_type": "execute_result"
    }
   ],
   "source": [
    "import pandas as pd \n",
    "\n",
    "df = pd.read_csv('https://raw.githubusercontent.com/Datamanim/datarepo/main/scipy/ind3.csv')\n",
    "df"
   ]
  },
  {
   "cell_type": "code",
   "execution_count": 7,
   "id": "01e1cae2",
   "metadata": {},
   "outputs": [
    {
     "data": {
      "image/png": "[encoded data removed]",
      "text/plain": [
       "<Figure size 432x288 with 1 Axes>"
      ]
     },
     "metadata": {
      "needs_background": "light"
     },
     "output_type": "display_data"
    }
   ],
   "source": [
    "import matplotlib.pyplot as plt\n",
    "\n",
    "plt.hist(df[df['group'] =='a'].data,label='A',alpha=0.5)\n",
    "plt.hist(df[df['group'] =='b'].data,label=\"B\",alpha=0.5)\n",
    "plt.xlabel('Score bins')\n",
    "plt.ylabel('Counts')\n",
    "plt.legend()\n",
    "plt.show()"
   ]
  },
  {
   "cell_type": "code",
   "execution_count": 9,
   "id": "7b3c2bed",
   "metadata": {},
   "outputs": [
    {
     "name": "stdout",
     "output_type": "stream",
     "text": [
      "ShapiroResult(statistic=0.9834123253822327, pvalue=0.1473984718322754)\n",
      "ShapiroResult(statistic=0.9831849336624146, pvalue=0.47018250823020935)\n"
     ]
    }
   ],
   "source": [
    "a = df[df['group'] =='a'].data\n",
    "b = df[df['group'] =='b'].data\n",
    "\n",
    "\n",
    "from scipy.stats import shapiro\n",
    "print(shapiro(a))\n",
    "print(shapiro(b))"
   ]
  },
  {
   "cell_type": "markdown",
   "id": "70644f33",
   "metadata": {},
   "source": [
    "#### 두 그룹 모두 Shapiro검정 결과 귀무가설(정규성을 가진다)을 기각 하지 못한다.\n",
    "#### 두 그룹은 정규성을 가진다."
   ]
  },
  {
   "cell_type": "code",
   "execution_count": 10,
   "id": "be8eab65",
   "metadata": {},
   "outputs": [
    {
     "name": "stdout",
     "output_type": "stream",
     "text": [
      "LeveneResult(statistic=6.185601018015722, pvalue=0.013750484571911342)\n"
     ]
    }
   ],
   "source": [
    "from scipy.stats import levene\n",
    "\n",
    "print(levene(a,b))"
   ]
  },
  {
   "cell_type": "markdown",
   "id": "8a1e98bc",
   "metadata": {},
   "source": [
    "#### 두 그룹은 levene 검정을 확인해 본결과 pvalue 는 0.013로 귀무가실을 기각하고 대립가설을 채택한다. 두 그룹은 등분산이 아니다"
   ]
  },
  {
   "cell_type": "code",
   "execution_count": 12,
   "id": "f77dec6f",
   "metadata": {},
   "outputs": [
    {
     "name": "stdout",
     "output_type": "stream",
     "text": [
      "Ttest_indResult(statistic=-2.1949470315829265, pvalue=0.029512802991767915)\n"
     ]
    }
   ],
   "source": [
    "from scipy.stats import ttest_ind\n",
    "\n",
    "print(ttest_ind(a,b,equal_var=False))"
   ]
  },
  {
   "cell_type": "markdown",
   "id": "c199a97c",
   "metadata": {},
   "source": [
    "#### 등분산이 아니기 때문에 equal_var=False 파라미터를 주고 ttest_ind 모듈을 이용하여 t test를 진행한다\n",
    "#### pvalue는 0.02이므로 귀무가설(각 그룹의 평균값은 동일하다)를 기각하고 대립가설을 채택한다\n",
    "#### 결론적으로 두 그룹은 모두 정규성을 가지지만 등분산은 아니며 평균은 동일하다고 보기 어렵다"
   ]
  },
  {
   "cell_type": "markdown",
   "id": "114e9f50",
   "metadata": {},
   "source": [
    "### Question\n",
    "\n",
    "#### 두 개 그룹에 대한 수치형 데이터이다. 두 그룹의 평균은 동일하다 말할 수 있는지 검정하라"
   ]
  },
  {
   "cell_type": "code",
   "execution_count": 13,
   "id": "431dbd0b",
   "metadata": {},
   "outputs": [
    {
     "data": {
      "text/html": [
       "<div>\n",
       "<style scoped>\n",
       "    .dataframe tbody tr th:only-of-type {\n",
       "        vertical-align: middle;\n",
       "    }\n",
       "\n",
       "    .dataframe tbody tr th {\n",
       "        vertical-align: top;\n",
       "    }\n",
       "\n",
       "    .dataframe thead th {\n",
       "        text-align: right;\n",
       "    }\n",
       "</style>\n",
       "<table border=\"1\" class=\"dataframe\">\n",
       "  <thead>\n",
       "    <tr style=\"text-align: right;\">\n",
       "      <th></th>\n",
       "      <th>a</th>\n",
       "      <th>b</th>\n",
       "    </tr>\n",
       "  </thead>\n",
       "  <tbody>\n",
       "    <tr>\n",
       "      <th>0</th>\n",
       "      <td>121.023118</td>\n",
       "      <td>69.982090</td>\n",
       "    </tr>\n",
       "    <tr>\n",
       "      <th>1</th>\n",
       "      <td>69.740978</td>\n",
       "      <td>139.774624</td>\n",
       "    </tr>\n",
       "    <tr>\n",
       "      <th>2</th>\n",
       "      <td>93.737693</td>\n",
       "      <td>175.425924</td>\n",
       "    </tr>\n",
       "    <tr>\n",
       "      <th>3</th>\n",
       "      <td>100.331645</td>\n",
       "      <td>85.493555</td>\n",
       "    </tr>\n",
       "    <tr>\n",
       "      <th>4</th>\n",
       "      <td>75.048925</td>\n",
       "      <td>83.488953</td>\n",
       "    </tr>\n",
       "    <tr>\n",
       "      <th>...</th>\n",
       "      <td>...</td>\n",
       "      <td>...</td>\n",
       "    </tr>\n",
       "    <tr>\n",
       "      <th>115</th>\n",
       "      <td>97.955501</td>\n",
       "      <td>NaN</td>\n",
       "    </tr>\n",
       "    <tr>\n",
       "      <th>116</th>\n",
       "      <td>116.839209</td>\n",
       "      <td>NaN</td>\n",
       "    </tr>\n",
       "    <tr>\n",
       "      <th>117</th>\n",
       "      <td>88.257448</td>\n",
       "      <td>NaN</td>\n",
       "    </tr>\n",
       "    <tr>\n",
       "      <th>118</th>\n",
       "      <td>89.904714</td>\n",
       "      <td>NaN</td>\n",
       "    </tr>\n",
       "    <tr>\n",
       "      <th>119</th>\n",
       "      <td>88.250342</td>\n",
       "      <td>NaN</td>\n",
       "    </tr>\n",
       "  </tbody>\n",
       "</table>\n",
       "<p>120 rows × 2 columns</p>\n",
       "</div>"
      ],
      "text/plain": [
       "              a           b\n",
       "0    121.023118   69.982090\n",
       "1     69.740978  139.774624\n",
       "2     93.737693  175.425924\n",
       "3    100.331645   85.493555\n",
       "4     75.048925   83.488953\n",
       "..          ...         ...\n",
       "115   97.955501         NaN\n",
       "116  116.839209         NaN\n",
       "117   88.257448         NaN\n",
       "118   89.904714         NaN\n",
       "119   88.250342         NaN\n",
       "\n",
       "[120 rows x 2 columns]"
      ]
     },
     "execution_count": 13,
     "metadata": {},
     "output_type": "execute_result"
    }
   ],
   "source": [
    "import pandas as pd \n",
    "\n",
    "df = pd.read_csv('https://raw.githubusercontent.com/Datamanim/datarepo/main/scipy/ind6.csv')\n",
    "df"
   ]
  },
  {
   "cell_type": "code",
   "execution_count": 14,
   "id": "4d16e453",
   "metadata": {},
   "outputs": [
    {
     "data": {
      "image/png": "[encoded data removed]",
      "text/plain": [
       "<Figure size 432x288 with 1 Axes>"
      ]
     },
     "metadata": {
      "needs_background": "light"
     },
     "output_type": "display_data"
    }
   ],
   "source": [
    "import matplotlib.pyplot as plt\n",
    "\n",
    "plt.hist(df['a'],alpha=0.5,label='A')\n",
    "plt.hist(df['b'],alpha=0.5,label=\"B\")\n",
    "plt.xlabel('Score bins')\n",
    "plt.ylabel('Counts')\n",
    "plt.legend()\n",
    "plt.show()"
   ]
  },
  {
   "cell_type": "code",
   "execution_count": 15,
   "id": "f124cfd7",
   "metadata": {},
   "outputs": [
    {
     "name": "stdout",
     "output_type": "stream",
     "text": [
      "ShapiroResult(statistic=0.9865895509719849, pvalue=0.28390026092529297)\n",
      "ShapiroResult(statistic=0.9854325652122498, pvalue=0.5937552452087402)\n"
     ]
    }
   ],
   "source": [
    "a = df['a'].dropna()\n",
    "b = df['b'].dropna()\n",
    "\n",
    "from scipy.stats import shapiro\n",
    "\n",
    "print(shapiro(a))\n",
    "print(shapiro(b))"
   ]
  },
  {
   "cell_type": "markdown",
   "id": "f91bb7b6",
   "metadata": {},
   "source": [
    "#### 두 그룹 모두 Shapiro검정 결과 귀무가설(정규성을 가진다)을 기각 하지 못한다. \n",
    "#### 두 그룹은 정규성을 가진다."
   ]
  },
  {
   "cell_type": "code",
   "execution_count": 16,
   "id": "ac97d55b",
   "metadata": {},
   "outputs": [
    {
     "name": "stdout",
     "output_type": "stream",
     "text": [
      "LeveneResult(statistic=3.9862856894158347, pvalue=0.04731495612868527)\n"
     ]
    }
   ],
   "source": [
    "from scipy.stats import levene\n",
    "\n",
    "print(levene(a,b))"
   ]
  },
  {
   "cell_type": "markdown",
   "id": "aa300544",
   "metadata": {},
   "source": [
    "#### 두 그룹은 levene 검정을 확인해 본결과 pvalue 는 0.047로 귀무가실을 기각하고 대립가설을 채택한다.\n",
    "#### 두 그룹은 등분산이 아니다"
   ]
  },
  {
   "cell_type": "code",
   "execution_count": 17,
   "id": "aae1c547",
   "metadata": {},
   "outputs": [
    {
     "name": "stdout",
     "output_type": "stream",
     "text": [
      "\n",
      "Ttest_indResult(statistic=0.0015963310698567188, pvalue=0.9987289046092704)\n"
     ]
    }
   ],
   "source": [
    "from scipy.stats import ttest_ind\n",
    "\n",
    "print(ttest_ind(a,b,equal_var=False))"
   ]
  },
  {
   "cell_type": "markdown",
   "id": "2a69a024",
   "metadata": {},
   "source": [
    "#### 등분산이 아니기 때문에 equal_var=False 파라미터를 주고 ttest_ind 모듈을 이용하여 t test를 진행한다\n",
    "#### pvalue는 0.99이므로 귀무가설(각 그룹의 평균값은 동일하다)를 기각하기 어렵다\n",
    "#### 결론적으로 두 그룹은 모두 정규성을 가지지만 등분산은 아니며 평균은 동일하다고 볼 수 있다"
   ]
  },
  {
   "cell_type": "code",
   "execution_count": null,
   "id": "974b8cd1",
   "metadata": {},
   "outputs": [],
   "source": []
  }
 ],
 "metadata": {
  "kernelspec": {
   "display_name": "Python 3",
   "language": "python",
   "name": "python3"
  },
  "language_info": {
   "codemirror_mode": {
    "name": "ipython",
    "version": 3
   },
   "file_extension": ".py",
   "mimetype": "text/x-python",
   "name": "python",
   "nbconvert_exporter": "python",
   "pygments_lexer": "ipython3",
   "version": "3.8.8"
  }
 },
 "nbformat": 4,
 "nbformat_minor": 5
}
