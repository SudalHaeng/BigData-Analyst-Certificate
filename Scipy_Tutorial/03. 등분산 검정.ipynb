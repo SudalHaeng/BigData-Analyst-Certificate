{
 "cells": [
  {
   "cell_type": "markdown",
   "id": "6463d1cf",
   "metadata": {},
   "source": [
    "### Question\n",
    "\n",
    "#### 두 개 학급의 시험성적에 대한 데이터이다 그룹간 등분산 검정을 시행하라"
   ]
  },
  {
   "cell_type": "code",
   "execution_count": 1,
   "id": "d8180128",
   "metadata": {},
   "outputs": [
    {
     "data": {
      "text/html": [
       "<div>\n",
       "<style scoped>\n",
       "    .dataframe tbody tr th:only-of-type {\n",
       "        vertical-align: middle;\n",
       "    }\n",
       "\n",
       "    .dataframe tbody tr th {\n",
       "        vertical-align: top;\n",
       "    }\n",
       "\n",
       "    .dataframe thead th {\n",
       "        text-align: right;\n",
       "    }\n",
       "</style>\n",
       "<table border=\"1\" class=\"dataframe\">\n",
       "  <thead>\n",
       "    <tr style=\"text-align: right;\">\n",
       "      <th></th>\n",
       "      <th>class</th>\n",
       "      <th>score</th>\n",
       "    </tr>\n",
       "  </thead>\n",
       "  <tbody>\n",
       "    <tr>\n",
       "      <th>0</th>\n",
       "      <td>A</td>\n",
       "      <td>84</td>\n",
       "    </tr>\n",
       "    <tr>\n",
       "      <th>1</th>\n",
       "      <td>A</td>\n",
       "      <td>59</td>\n",
       "    </tr>\n",
       "    <tr>\n",
       "      <th>2</th>\n",
       "      <td>A</td>\n",
       "      <td>49</td>\n",
       "    </tr>\n",
       "    <tr>\n",
       "      <th>3</th>\n",
       "      <td>A</td>\n",
       "      <td>57</td>\n",
       "    </tr>\n",
       "    <tr>\n",
       "      <th>4</th>\n",
       "      <td>A</td>\n",
       "      <td>82</td>\n",
       "    </tr>\n",
       "    <tr>\n",
       "      <th>...</th>\n",
       "      <td>...</td>\n",
       "      <td>...</td>\n",
       "    </tr>\n",
       "    <tr>\n",
       "      <th>475</th>\n",
       "      <td>B</td>\n",
       "      <td>72</td>\n",
       "    </tr>\n",
       "    <tr>\n",
       "      <th>476</th>\n",
       "      <td>B</td>\n",
       "      <td>80</td>\n",
       "    </tr>\n",
       "    <tr>\n",
       "      <th>477</th>\n",
       "      <td>B</td>\n",
       "      <td>84</td>\n",
       "    </tr>\n",
       "    <tr>\n",
       "      <th>478</th>\n",
       "      <td>B</td>\n",
       "      <td>73</td>\n",
       "    </tr>\n",
       "    <tr>\n",
       "      <th>479</th>\n",
       "      <td>B</td>\n",
       "      <td>92</td>\n",
       "    </tr>\n",
       "  </tbody>\n",
       "</table>\n",
       "<p>480 rows × 2 columns</p>\n",
       "</div>"
      ],
      "text/plain": [
       "    class  score\n",
       "0       A     84\n",
       "1       A     59\n",
       "2       A     49\n",
       "3       A     57\n",
       "4       A     82\n",
       "..    ...    ...\n",
       "475     B     72\n",
       "476     B     80\n",
       "477     B     84\n",
       "478     B     73\n",
       "479     B     92\n",
       "\n",
       "[480 rows x 2 columns]"
      ]
     },
     "execution_count": 1,
     "metadata": {},
     "output_type": "execute_result"
    }
   ],
   "source": [
    "import pandas as pd \n",
    "df = pd.read_csv('https://raw.githubusercontent.com/Datamanim/datarepo/main/scipy/scipy2.csv')\n",
    "df"
   ]
  },
  {
   "cell_type": "code",
   "execution_count": 2,
   "id": "b140d115",
   "metadata": {},
   "outputs": [
    {
     "data": {
      "text/plain": [
       "array(['A', 'B'], dtype=object)"
      ]
     },
     "execution_count": 2,
     "metadata": {},
     "output_type": "execute_result"
    }
   ],
   "source": [
    "df['class'].unique()"
   ]
  },
  {
   "cell_type": "code",
   "execution_count": 3,
   "id": "803fa9c9",
   "metadata": {},
   "outputs": [
    {
     "data": {
      "text/plain": [
       "0      84\n",
       "1      59\n",
       "2      49\n",
       "3      57\n",
       "4      82\n",
       "       ..\n",
       "295    78\n",
       "296    58\n",
       "297    61\n",
       "298    41\n",
       "299    53\n",
       "Name: score, Length: 300, dtype: int64"
      ]
     },
     "execution_count": 3,
     "metadata": {},
     "output_type": "execute_result"
    }
   ],
   "source": [
    "a = df[df['class'] =='A'].score\n",
    "a"
   ]
  },
  {
   "cell_type": "code",
   "execution_count": 4,
   "id": "b09cb99f",
   "metadata": {},
   "outputs": [
    {
     "data": {
      "text/plain": [
       "300    89\n",
       "301    37\n",
       "302    71\n",
       "303    44\n",
       "304    93\n",
       "       ..\n",
       "475    72\n",
       "476    80\n",
       "477    84\n",
       "478    73\n",
       "479    92\n",
       "Name: score, Length: 180, dtype: int64"
      ]
     },
     "execution_count": 4,
     "metadata": {},
     "output_type": "execute_result"
    }
   ],
   "source": [
    "b = df[df['class'] =='B'].score\n",
    "b"
   ]
  },
  {
   "cell_type": "code",
   "execution_count": 5,
   "id": "48c2f064",
   "metadata": {},
   "outputs": [
    {
     "name": "stdout",
     "output_type": "stream",
     "text": [
      "BartlettResult(statistic=0.26035880448930865, pvalue=0.609873758447687)\n"
     ]
    }
   ],
   "source": [
    "from scipy.stats import bartlett\n",
    "print(bartlett(a,b))"
   ]
  },
  {
   "cell_type": "code",
   "execution_count": 6,
   "id": "8404a7dd",
   "metadata": {},
   "outputs": [
    {
     "name": "stdout",
     "output_type": "stream",
     "text": [
      "FlignerResult(statistic=0.7281251154135562, pvalue=0.39349158741002765)\n",
      "FlignerResult(statistic=0.8272211734319945, pvalue=0.36307728836821906)\n"
     ]
    }
   ],
   "source": [
    "from scipy.stats import fligner\n",
    "\n",
    "print(fligner(a,b,center='median')) #default\n",
    "print(fligner(a,b,center='mean')) "
   ]
  },
  {
   "cell_type": "code",
   "execution_count": 7,
   "id": "6e97a265",
   "metadata": {},
   "outputs": [
    {
     "name": "stdout",
     "output_type": "stream",
     "text": [
      "LeveneResult(statistic=0.3145466542912649, pvalue=0.5751662820554713)\n",
      "LeveneResult(statistic=0.5086970687685527, pvalue=0.4760514837800255)\n"
     ]
    }
   ],
   "source": [
    "from scipy.stats import levene\n",
    "\n",
    "print(levene(a,b, center='median')) #default\n",
    "print(levene(a,b,center='mean'))"
   ]
  },
  {
   "cell_type": "markdown",
   "id": "2dff8996",
   "metadata": {},
   "source": [
    "#### 등분산검정의 방법은 3가지가 있다. \n",
    "#### pvalue값은 5% 유의수준이라면 0.05보다 작은 경우 \"각 그룹은 등분산이다\"라는 귀무가설을 기각한다.\n",
    "#### 위의 결과를 보면 모두 0.05보다 크므로 귀무가설을 기각할수 없음을 알 수 있다."
   ]
  },
  {
   "cell_type": "markdown",
   "id": "52b89f63",
   "metadata": {},
   "source": [
    "### Question\n",
    "\n",
    "#### 두 개 학급의 시험성적에 대한 데이터이다 그룹간 등분산 검정을 시행하라"
   ]
  },
  {
   "cell_type": "code",
   "execution_count": 8,
   "id": "6b19549e",
   "metadata": {},
   "outputs": [
    {
     "data": {
      "text/html": [
       "<div>\n",
       "<style scoped>\n",
       "    .dataframe tbody tr th:only-of-type {\n",
       "        vertical-align: middle;\n",
       "    }\n",
       "\n",
       "    .dataframe tbody tr th {\n",
       "        vertical-align: top;\n",
       "    }\n",
       "\n",
       "    .dataframe thead th {\n",
       "        text-align: right;\n",
       "    }\n",
       "</style>\n",
       "<table border=\"1\" class=\"dataframe\">\n",
       "  <thead>\n",
       "    <tr style=\"text-align: right;\">\n",
       "      <th></th>\n",
       "      <th>class</th>\n",
       "      <th>score</th>\n",
       "    </tr>\n",
       "  </thead>\n",
       "  <tbody>\n",
       "    <tr>\n",
       "      <th>0</th>\n",
       "      <td>A</td>\n",
       "      <td>32</td>\n",
       "    </tr>\n",
       "    <tr>\n",
       "      <th>1</th>\n",
       "      <td>A</td>\n",
       "      <td>69</td>\n",
       "    </tr>\n",
       "    <tr>\n",
       "      <th>2</th>\n",
       "      <td>A</td>\n",
       "      <td>68</td>\n",
       "    </tr>\n",
       "    <tr>\n",
       "      <th>3</th>\n",
       "      <td>A</td>\n",
       "      <td>60</td>\n",
       "    </tr>\n",
       "    <tr>\n",
       "      <th>4</th>\n",
       "      <td>A</td>\n",
       "      <td>78</td>\n",
       "    </tr>\n",
       "    <tr>\n",
       "      <th>...</th>\n",
       "      <td>...</td>\n",
       "      <td>...</td>\n",
       "    </tr>\n",
       "    <tr>\n",
       "      <th>475</th>\n",
       "      <td>B</td>\n",
       "      <td>60</td>\n",
       "    </tr>\n",
       "    <tr>\n",
       "      <th>476</th>\n",
       "      <td>B</td>\n",
       "      <td>56</td>\n",
       "    </tr>\n",
       "    <tr>\n",
       "      <th>477</th>\n",
       "      <td>B</td>\n",
       "      <td>56</td>\n",
       "    </tr>\n",
       "    <tr>\n",
       "      <th>478</th>\n",
       "      <td>B</td>\n",
       "      <td>52</td>\n",
       "    </tr>\n",
       "    <tr>\n",
       "      <th>479</th>\n",
       "      <td>B</td>\n",
       "      <td>77</td>\n",
       "    </tr>\n",
       "  </tbody>\n",
       "</table>\n",
       "<p>480 rows × 2 columns</p>\n",
       "</div>"
      ],
      "text/plain": [
       "    class  score\n",
       "0       A     32\n",
       "1       A     69\n",
       "2       A     68\n",
       "3       A     60\n",
       "4       A     78\n",
       "..    ...    ...\n",
       "475     B     60\n",
       "476     B     56\n",
       "477     B     56\n",
       "478     B     52\n",
       "479     B     77\n",
       "\n",
       "[480 rows x 2 columns]"
      ]
     },
     "execution_count": 8,
     "metadata": {},
     "output_type": "execute_result"
    }
   ],
   "source": [
    "import pandas as pd \n",
    "df = pd.read_csv('https://raw.githubusercontent.com/Datamanim/datarepo/main/scipy/scipy3.csv')\n",
    "df"
   ]
  },
  {
   "cell_type": "code",
   "execution_count": 9,
   "id": "90645d02",
   "metadata": {},
   "outputs": [
    {
     "data": {
      "text/plain": [
       "array(['A', 'B'], dtype=object)"
      ]
     },
     "execution_count": 9,
     "metadata": {},
     "output_type": "execute_result"
    }
   ],
   "source": [
    "df['class'].unique()"
   ]
  },
  {
   "cell_type": "code",
   "execution_count": 10,
   "id": "ed54099c",
   "metadata": {},
   "outputs": [
    {
     "name": "stdout",
     "output_type": "stream",
     "text": [
      "BartlettResult(statistic=1.5116783794562305, pvalue=0.2188831590902503)\n",
      "FlignerResult(statistic=4.960366756026232, pvalue=0.025934706256615564)\n",
      "FlignerResult(statistic=4.94724457924667, pvalue=0.026132286002684912)\n",
      "LeveneResult(statistic=4.307122424591436, pvalue=0.03848734007752694)\n",
      "LeveneResult(statistic=4.342327020297874, pvalue=0.0377066528874248)\n"
     ]
    }
   ],
   "source": [
    "from scipy.stats import bartlett\n",
    "from scipy.stats import fligner\n",
    "from scipy.stats import levene\n",
    "\n",
    "a = df[df['class'] =='A'].score\n",
    "b = df[df['class'] =='B'].score\n",
    "\n",
    "print(bartlett(a,b))\n",
    "\n",
    "print(fligner(a,b,center='median')) #default\n",
    "print(fligner(a,b,center='mean')) \n",
    "\n",
    "print(levene(a,b, center='median')) #default\n",
    "print(levene(a,b,center='mean'))"
   ]
  },
  {
   "cell_type": "markdown",
   "id": "e520e411",
   "metadata": {},
   "source": [
    "#### bartlett 검정 결과 pvalue는 0.05보다 크다.\n",
    "#### fligner, levene 검정 결과 pvalue는 0.05보다 작다. "
   ]
  },
  {
   "cell_type": "markdown",
   "id": "61b61dcf",
   "metadata": {},
   "source": [
    "### 해답지 해설\n",
    "#### fligner, levene는 bartlett보다 좀 더 robust하다는 특징이 있다.\n",
    "#### 어떤 검정의 결과를 사용해야하는지는 정해지지 않았지만 상황에 따라 특징들을 서술할 수 있다면 문제 없지 않을까..."
   ]
  },
  {
   "cell_type": "markdown",
   "id": "bfda9ab8",
   "metadata": {},
   "source": [
    "### Question\n",
    "\n",
    "#### 두 개 학급의 시험성적에 대한 데이터이다 그룹간 등분산 검정을 시행하라"
   ]
  },
  {
   "cell_type": "code",
   "execution_count": 11,
   "id": "f4acb6f5",
   "metadata": {},
   "outputs": [
    {
     "data": {
      "text/html": [
       "<div>\n",
       "<style scoped>\n",
       "    .dataframe tbody tr th:only-of-type {\n",
       "        vertical-align: middle;\n",
       "    }\n",
       "\n",
       "    .dataframe tbody tr th {\n",
       "        vertical-align: top;\n",
       "    }\n",
       "\n",
       "    .dataframe thead th {\n",
       "        text-align: right;\n",
       "    }\n",
       "</style>\n",
       "<table border=\"1\" class=\"dataframe\">\n",
       "  <thead>\n",
       "    <tr style=\"text-align: right;\">\n",
       "      <th></th>\n",
       "      <th>A</th>\n",
       "      <th>B</th>\n",
       "    </tr>\n",
       "  </thead>\n",
       "  <tbody>\n",
       "    <tr>\n",
       "      <th>0</th>\n",
       "      <td>44</td>\n",
       "      <td>36</td>\n",
       "    </tr>\n",
       "    <tr>\n",
       "      <th>1</th>\n",
       "      <td>61</td>\n",
       "      <td>92</td>\n",
       "    </tr>\n",
       "    <tr>\n",
       "      <th>2</th>\n",
       "      <td>76</td>\n",
       "      <td>41</td>\n",
       "    </tr>\n",
       "    <tr>\n",
       "      <th>3</th>\n",
       "      <td>64</td>\n",
       "      <td>45</td>\n",
       "    </tr>\n",
       "    <tr>\n",
       "      <th>4</th>\n",
       "      <td>65</td>\n",
       "      <td>35</td>\n",
       "    </tr>\n",
       "    <tr>\n",
       "      <th>...</th>\n",
       "      <td>...</td>\n",
       "      <td>...</td>\n",
       "    </tr>\n",
       "    <tr>\n",
       "      <th>175</th>\n",
       "      <td>54</td>\n",
       "      <td>48</td>\n",
       "    </tr>\n",
       "    <tr>\n",
       "      <th>176</th>\n",
       "      <td>38</td>\n",
       "      <td>62</td>\n",
       "    </tr>\n",
       "    <tr>\n",
       "      <th>177</th>\n",
       "      <td>88</td>\n",
       "      <td>47</td>\n",
       "    </tr>\n",
       "    <tr>\n",
       "      <th>178</th>\n",
       "      <td>86</td>\n",
       "      <td>68</td>\n",
       "    </tr>\n",
       "    <tr>\n",
       "      <th>179</th>\n",
       "      <td>34</td>\n",
       "      <td>82</td>\n",
       "    </tr>\n",
       "  </tbody>\n",
       "</table>\n",
       "<p>180 rows × 2 columns</p>\n",
       "</div>"
      ],
      "text/plain": [
       "      A   B\n",
       "0    44  36\n",
       "1    61  92\n",
       "2    76  41\n",
       "3    64  45\n",
       "4    65  35\n",
       "..   ..  ..\n",
       "175  54  48\n",
       "176  38  62\n",
       "177  88  47\n",
       "178  86  68\n",
       "179  34  82\n",
       "\n",
       "[180 rows x 2 columns]"
      ]
     },
     "execution_count": 11,
     "metadata": {},
     "output_type": "execute_result"
    }
   ],
   "source": [
    "import pandas as pd \n",
    "df = pd.read_csv('https://raw.githubusercontent.com/Datamanim/datarepo/main/scipy/scipy6.csv')\n",
    "df"
   ]
  },
  {
   "cell_type": "code",
   "execution_count": 12,
   "id": "2df823ab",
   "metadata": {},
   "outputs": [
    {
     "name": "stdout",
     "output_type": "stream",
     "text": [
      "귀무가설 : \"등분산이다.\" vs 대립가설 : \"등분산이 아니다.\"\n",
      "\n",
      "\n",
      "bartlett 검정 결과 p-value : 0.12264468401742169 이므로 귀무가설 기각하지 않는다.\n",
      "          └\"등분산이다.\"\n",
      "\n",
      "fligner 검정 결과 p-value : 0.023585858890699054 이므로 귀무가설 기각한다.\n",
      "          └\"등분산이 아니다.\"\n",
      "\n",
      "levene 검정 결과 p-value : 0.023868975493455683 이므로 귀무가설 기각한다.\n",
      "          └\"등분산이 아니다.\"\n",
      "\n"
     ]
    }
   ],
   "source": [
    "from scipy.stats import bartlett\n",
    "from scipy.stats import fligner\n",
    "from scipy.stats import levene\n",
    "\n",
    "a,b = df['A'], df['B']\n",
    "\n",
    "print('귀무가설 : \"등분산이다.\" vs 대립가설 : \"등분산이 아니다.\"\\n\\n')\n",
    "p = bartlett(a,b).pvalue\n",
    "if p < 0.05:\n",
    "    print('bartlett 검정 결과 p-value :', p ,'이므로 귀무가설 기각한다.')\n",
    "    print('          └\"등분산이 아니다.\"\\n')\n",
    "else:\n",
    "    print('bartlett 검정 결과 p-value :', p ,'이므로 귀무가설 기각하지 않는다.')\n",
    "    print('          └\"등분산이다.\"\\n')\n",
    "    \n",
    "p = fligner(a,b).pvalue\n",
    "if p < 0.05:\n",
    "    print('fligner 검정 결과 p-value :', p ,'이므로 귀무가설 기각한다.')\n",
    "    print('          └\"등분산이 아니다.\"\\n')\n",
    "else:\n",
    "    print('fligner 검정 결과 p-value :', p ,'이므로 귀무가설 기각하지 않는다.')\n",
    "    print('          └\"등분산이다.\"\\n')\n",
    "\n",
    "p = levene(a,b).pvalue\n",
    "if p < 0.05:\n",
    "    print('levene 검정 결과 p-value :', p ,'이므로 귀무가설 기각한다.')\n",
    "    print('          └\"등분산이 아니다.\"\\n')\n",
    "else:\n",
    "    print('levene 검정 결과 p-value :', p ,'이므로 귀무가설 기각하지 않는다.')\n",
    "    print('          └\"등분산이다.\"\\n')\n"
   ]
  },
  {
   "cell_type": "markdown",
   "id": "aacee65a",
   "metadata": {},
   "source": [
    "#### bartlett, fligner 검정 결과 pvalue는 0.05보다 크다.\n",
    "#### levene 검정 결과 pvalue는 0.05보다 작다. "
   ]
  },
  {
   "cell_type": "markdown",
   "id": "dd4aa14f",
   "metadata": {},
   "source": [
    "### Question\n",
    "\n",
    "#### 두 개 학급의 시험성적에 대한 데이터이다 그룹간 등분산 검정을 시행하라"
   ]
  },
  {
   "cell_type": "code",
   "execution_count": 13,
   "id": "39511655",
   "metadata": {},
   "outputs": [
    {
     "data": {
      "text/html": [
       "<div>\n",
       "<style scoped>\n",
       "    .dataframe tbody tr th:only-of-type {\n",
       "        vertical-align: middle;\n",
       "    }\n",
       "\n",
       "    .dataframe tbody tr th {\n",
       "        vertical-align: top;\n",
       "    }\n",
       "\n",
       "    .dataframe thead th {\n",
       "        text-align: right;\n",
       "    }\n",
       "</style>\n",
       "<table border=\"1\" class=\"dataframe\">\n",
       "  <thead>\n",
       "    <tr style=\"text-align: right;\">\n",
       "      <th></th>\n",
       "      <th>A</th>\n",
       "      <th>B</th>\n",
       "    </tr>\n",
       "  </thead>\n",
       "  <tbody>\n",
       "    <tr>\n",
       "      <th>0</th>\n",
       "      <td>74</td>\n",
       "      <td>30.0</td>\n",
       "    </tr>\n",
       "    <tr>\n",
       "      <th>1</th>\n",
       "      <td>30</td>\n",
       "      <td>59.0</td>\n",
       "    </tr>\n",
       "    <tr>\n",
       "      <th>2</th>\n",
       "      <td>35</td>\n",
       "      <td>69.0</td>\n",
       "    </tr>\n",
       "    <tr>\n",
       "      <th>3</th>\n",
       "      <td>45</td>\n",
       "      <td>88.0</td>\n",
       "    </tr>\n",
       "    <tr>\n",
       "      <th>4</th>\n",
       "      <td>74</td>\n",
       "      <td>68.0</td>\n",
       "    </tr>\n",
       "    <tr>\n",
       "      <th>...</th>\n",
       "      <td>...</td>\n",
       "      <td>...</td>\n",
       "    </tr>\n",
       "    <tr>\n",
       "      <th>295</th>\n",
       "      <td>80</td>\n",
       "      <td>NaN</td>\n",
       "    </tr>\n",
       "    <tr>\n",
       "      <th>296</th>\n",
       "      <td>30</td>\n",
       "      <td>NaN</td>\n",
       "    </tr>\n",
       "    <tr>\n",
       "      <th>297</th>\n",
       "      <td>91</td>\n",
       "      <td>NaN</td>\n",
       "    </tr>\n",
       "    <tr>\n",
       "      <th>298</th>\n",
       "      <td>84</td>\n",
       "      <td>NaN</td>\n",
       "    </tr>\n",
       "    <tr>\n",
       "      <th>299</th>\n",
       "      <td>57</td>\n",
       "      <td>NaN</td>\n",
       "    </tr>\n",
       "  </tbody>\n",
       "</table>\n",
       "<p>300 rows × 2 columns</p>\n",
       "</div>"
      ],
      "text/plain": [
       "      A     B\n",
       "0    74  30.0\n",
       "1    30  59.0\n",
       "2    35  69.0\n",
       "3    45  88.0\n",
       "4    74  68.0\n",
       "..   ..   ...\n",
       "295  80   NaN\n",
       "296  30   NaN\n",
       "297  91   NaN\n",
       "298  84   NaN\n",
       "299  57   NaN\n",
       "\n",
       "[300 rows x 2 columns]"
      ]
     },
     "execution_count": 13,
     "metadata": {},
     "output_type": "execute_result"
    }
   ],
   "source": [
    "import pandas as pd \n",
    "df = pd.read_csv('https://raw.githubusercontent.com/Datamanim/datarepo/main/scipy/scipy5.csv')\n",
    "df"
   ]
  },
  {
   "cell_type": "code",
   "execution_count": 14,
   "id": "fb78f93e",
   "metadata": {},
   "outputs": [
    {
     "name": "stdout",
     "output_type": "stream",
     "text": [
      "귀무가설 : \"등분산이다.\" vs 대립가설 : \"등분산이 아니다.\"\n",
      "\n",
      "\n",
      "bartlett 검정 결과 p-value : 0.04239774936707851 이므로 귀무가설 기각한다.\n",
      "          └\"등분산이 아니다.\"\n",
      "\n",
      "NaN 제외 bartlett 검정 결과 p-value : 0.08203720607748438 이므로 귀무가설 기각하지 않는다.\n",
      "          └\"등분산이다.\"\n",
      "\n",
      "fligner 검정 결과 p-value : 5.22112391778621e-83 이므로 귀무가설 기각한다.\n",
      "          └\"등분산이 아니다.\"\n",
      "\n",
      "NaN 제외 fligner 검정 결과 p-value : 0.005490600130793619 이므로 귀무가설 기각한다.\n",
      "          └\"등분산이 아니다.\"\n",
      "\n",
      "levene 검정 결과 p-value : nan 이므로 귀무가설 기각하지 않는다.\n",
      "          └\"등분산이다.\"\n",
      "\n",
      "NaN 제외 levene 검정 결과 p-value : 0.004851565077063284 이므로 귀무가설 기각한다.\n",
      "          └\"등분산이 아니다.\"\n",
      "\n"
     ]
    }
   ],
   "source": [
    "from scipy.stats import bartlett\n",
    "from scipy.stats import fligner\n",
    "from scipy.stats import levene\n",
    "\n",
    "a,b1,b2 = df['A'], df['B'], df['B'].dropna()\n",
    "\n",
    "print('귀무가설 : \"등분산이다.\" vs 대립가설 : \"등분산이 아니다.\"\\n\\n')\n",
    "p = bartlett(a,b1).pvalue\n",
    "if p < 0.05:\n",
    "    print('bartlett 검정 결과 p-value :', p ,'이므로 귀무가설 기각한다.')\n",
    "    print('          └\"등분산이 아니다.\"\\n')\n",
    "else:\n",
    "    print('bartlett 검정 결과 p-value :', p ,'이므로 귀무가설 기각하지 않는다.')\n",
    "    print('          └\"등분산이다.\"\\n')\n",
    "    \n",
    "p = bartlett(a,b2).pvalue\n",
    "if p < 0.05:\n",
    "    print('NaN 제외 bartlett 검정 결과 p-value :', p ,'이므로 귀무가설 기각한다.')\n",
    "    print('          └\"등분산이 아니다.\"\\n')\n",
    "else:\n",
    "    print('NaN 제외 bartlett 검정 결과 p-value :', p ,'이므로 귀무가설 기각하지 않는다.')\n",
    "    print('          └\"등분산이다.\"\\n')\n",
    "    \n",
    "p = fligner(a,b1).pvalue\n",
    "if p < 0.05:\n",
    "    print('fligner 검정 결과 p-value :', p ,'이므로 귀무가설 기각한다.')\n",
    "    print('          └\"등분산이 아니다.\"\\n')\n",
    "else:\n",
    "    print('fligner 검정 결과 p-value :', p ,'이므로 귀무가설 기각하지 않는다.')\n",
    "    print('          └\"등분산이다.\"\\n')\n",
    "\n",
    "p = fligner(a,b2).pvalue\n",
    "if p < 0.05:\n",
    "    print('NaN 제외 fligner 검정 결과 p-value :', p ,'이므로 귀무가설 기각한다.')\n",
    "    print('          └\"등분산이 아니다.\"\\n')\n",
    "else:\n",
    "    print('NaN 제외 fligner 검정 결과 p-value :', p ,'이므로 귀무가설 기각하지 않는다.')\n",
    "    print('          └\"등분산이다.\"\\n')\n",
    "\n",
    "p = levene(a,b1).pvalue\n",
    "if p < 0.05:\n",
    "    print('levene 검정 결과 p-value :', p ,'이므로 귀무가설 기각한다.')\n",
    "    print('          └\"등분산이 아니다.\"\\n')\n",
    "else:\n",
    "    print('levene 검정 결과 p-value :', p ,'이므로 귀무가설 기각하지 않는다.')\n",
    "    print('          └\"등분산이다.\"\\n')\n",
    "    \n",
    "p = levene(a,b2).pvalue\n",
    "if p < 0.05:\n",
    "    print('NaN 제외 levene 검정 결과 p-value :', p ,'이므로 귀무가설 기각한다.')\n",
    "    print('          └\"등분산이 아니다.\"\\n')\n",
    "else:\n",
    "    print('NaN 제외 levene 검정 결과 p-value :', p ,'이므로 귀무가설 기각하지 않는다.')\n",
    "    print('          └\"등분산이다.\"\\n')\n"
   ]
  },
  {
   "cell_type": "markdown",
   "id": "7c2c7dd7",
   "metadata": {},
   "source": [
    "### 해답지 해설\n",
    "#### bartlett ,fligner 두 검정은 nan값을 지우고 사용해야한다.\n",
    "#### LeveneResult의 경우 nan값이 포함된다면 연산이 제대로 안된다"
   ]
  },
  {
   "cell_type": "code",
   "execution_count": null,
   "id": "38764b6b",
   "metadata": {},
   "outputs": [],
   "source": []
  }
 ],
 "metadata": {
  "kernelspec": {
   "display_name": "Python 3",
   "language": "python",
   "name": "python3"
  },
  "language_info": {
   "codemirror_mode": {
    "name": "ipython",
    "version": 3
   },
   "file_extension": ".py",
   "mimetype": "text/x-python",
   "name": "python",
   "nbconvert_exporter": "python",
   "pygments_lexer": "ipython3",
   "version": "3.8.8"
  }
 },
 "nbformat": 4,
 "nbformat_minor": 5
}
