{
 "cells": [
  {
   "cell_type": "markdown",
   "id": "5e583b4a",
   "metadata": {},
   "source": [
    "### Question\n",
    "\n",
    "#### 100명의 키 정보가 들어 있는 데이터가 있다.데이터가 정규성을 만족하는지 확인하라.\n",
    "#### 그리고 평균키는 165라 판단할수 있는지 귀무가설과 대립가설을 설정한 후 유의수준 5%로 검정하라."
   ]
  },
  {
   "cell_type": "code",
   "execution_count": 1,
   "id": "66802d39",
   "metadata": {},
   "outputs": [],
   "source": [
    "import pandas as pd \n",
    "df = pd.read_csv('https://raw.githubusercontent.com/Datamanim/datarepo/main/scipy/height1.csv')"
   ]
  },
  {
   "cell_type": "code",
   "execution_count": 2,
   "id": "b2fb8313",
   "metadata": {},
   "outputs": [
    {
     "data": {
      "text/plain": [
       "ShapiroResult(statistic=0.9872670769691467, pvalue=0.455832302570343)"
      ]
     },
     "execution_count": 2,
     "metadata": {},
     "output_type": "execute_result"
    }
   ],
   "source": [
    "from scipy.stats import shapiro\n",
    "# 정규성 검정 (shapiro)\n",
    "shapiro(df)"
   ]
  },
  {
   "cell_type": "code",
   "execution_count": 3,
   "id": "52aa0643",
   "metadata": {},
   "outputs": [
    {
     "data": {
      "text/plain": [
       "0.9872670769691467"
      ]
     },
     "execution_count": 3,
     "metadata": {},
     "output_type": "execute_result"
    }
   ],
   "source": [
    "statistic, pvalue = shapiro(df)\n",
    "statistic"
   ]
  },
  {
   "cell_type": "code",
   "execution_count": 4,
   "id": "69a3c5cb",
   "metadata": {},
   "outputs": [
    {
     "data": {
      "text/plain": [
       "0.455832302570343"
      ]
     },
     "execution_count": 4,
     "metadata": {},
     "output_type": "execute_result"
    }
   ],
   "source": [
    "pvalue"
   ]
  },
  {
   "cell_type": "code",
   "execution_count": 5,
   "id": "d18c141a",
   "metadata": {},
   "outputs": [
    {
     "name": "stdout",
     "output_type": "stream",
     "text": [
      "귀무가설 기각 X -> 정규성 만족 -> 단일표본 검정으로 확인\n",
      "\n",
      "단일표본 t-test \n",
      "\n",
      "귀무가설 : \"100명 키의 평균은 165이다.\"   vs   대립가설 : \"100명 키의 평균은 165가 아니다.\"\n"
     ]
    }
   ],
   "source": [
    "if pvalue < 0.05:\n",
    "    print('귀무가설 기각  -> 정규성 만족 X -> 비모수 검정 진행\\n')\n",
    "    print('Wilcoxon 부호 검정\\n')\n",
    "    print('귀무가설 : \"100명 키의 평균은 165이다.\"   vs   대립가설 : \"100명 키의 평균은 165가 아니다.\"')\n",
    "    \n",
    "    # Wilcoxon 부호 순위 검정\n",
    "\n",
    "else:\n",
    "    print('귀무가설 기각 X -> 정규성 만족 -> 단일표본 검정으로 확인\\n')\n",
    "    print('단일표본 t-test \\n')\n",
    "    print('귀무가설 : \"100명 키의 평균은 165이다.\"   vs   대립가설 : \"100명 키의 평균은 165가 아니다.\"')\n",
    "    \n",
    "    # 단일표본 t-test"
   ]
  },
  {
   "cell_type": "code",
   "execution_count": 6,
   "id": "66f76fef",
   "metadata": {},
   "outputs": [
    {
     "data": {
      "text/plain": [
       "0.002654951754186932"
      ]
     },
     "execution_count": 6,
     "metadata": {},
     "output_type": "execute_result"
    }
   ],
   "source": [
    "# Wilcoxon 부호 순위 검정\n",
    "from scipy.stats import wilcoxon\n",
    "statistic, pvalue = wilcoxon(df['height']-165)\n",
    "pvalue"
   ]
  },
  {
   "cell_type": "code",
   "execution_count": 7,
   "id": "c45c60c6",
   "metadata": {},
   "outputs": [
    {
     "name": "stdout",
     "output_type": "stream",
     "text": [
      "검정 결과 p-value는 0.002654951754186932로 결과는 귀무가설을 기각한다.\n",
      "따라서 \"100명 키의 평균은 165가 아니다.\"\n"
     ]
    }
   ],
   "source": [
    "if pvalue < 0.05:\n",
    "    print(f'검정 결과 p-value는 {pvalue}로 결과는 귀무가설을 기각한다.')\n",
    "    print('따라서 \"100명 키의 평균은 165가 아니다.\"')\n",
    "else:\n",
    "    print(f'검정 결과 p-value는 {pvalue}로 결과는 귀무가설을 기각하지 않는다.')\n",
    "    print('따라서 \"100명 키의 평균은 165이다.\"')"
   ]
  },
  {
   "cell_type": "code",
   "execution_count": 8,
   "id": "2d167e63",
   "metadata": {},
   "outputs": [
    {
     "data": {
      "text/plain": [
       "0.0018367171548080209"
      ]
     },
     "execution_count": 8,
     "metadata": {},
     "output_type": "execute_result"
    }
   ],
   "source": [
    "# 단일표본 t-test\n",
    "from scipy.stats import ttest_1samp\n",
    "statistic, pvalue = ttest_1samp(df['height'], 165)\n",
    "pvalue"
   ]
  },
  {
   "cell_type": "code",
   "execution_count": 9,
   "id": "7202cb97",
   "metadata": {},
   "outputs": [
    {
     "name": "stdout",
     "output_type": "stream",
     "text": [
      "검정 결과 p-value는  0.0018367171548080209 로 결과는 귀무가설을 기각한다.\n",
      "따라서 \"100명 키의 평균은 165가 아니다.\"\n"
     ]
    }
   ],
   "source": [
    "if pvalue < 0.05:\n",
    "    print('검정 결과 p-value는 ', pvalue, '로 결과는 귀무가설을 기각한다.')\n",
    "    print('따라서 \"100명 키의 평균은 165가 아니다.\"')\n",
    "else:\n",
    "    print('검정 결과 p-value는 ', pvalue, '로 결과는 귀무가설을 기각하지 않는다.')\n",
    "    print('따라서 \"100명 키의 평균은 165이다.\"')"
   ]
  },
  {
   "cell_type": "code",
   "execution_count": 10,
   "id": "7f8007e0",
   "metadata": {},
   "outputs": [
    {
     "name": "stdout",
     "output_type": "stream",
     "text": [
      "샤피로 정규성 검정 \n",
      " p-value :  0.455832302570343 이므로\n",
      "귀무가설 기각 X -> 정규성 만족 -> 단일표본 검정으로 확인\n",
      "\n",
      "단일표본 t-test \n",
      "\n",
      "귀무가설 : \"100명 키의 평균은 165이다.\"   vs   대립가설 : \"100명 키의 평균은 165가 아니다.\"\n",
      "검정 결과 p-value는  0.0018367171548080209 로 결과는 귀무가설을 기각한다.\n",
      "따라서 \"100명 키의 평균은 165가 아니다.\"\n"
     ]
    }
   ],
   "source": [
    "from scipy.stats import ttest_1samp\n",
    "from scipy.stats import shapiro\n",
    "from scipy.stats import wilcoxon\n",
    "\n",
    "# 정규성 검정 (Shapiro)\n",
    "static, pvalue = shapiro(df)\n",
    "print('샤피로 정규성 검정 \\n p-value : ', pvalue, '이므로')\n",
    "\n",
    "if pvalue < 0.05:\n",
    "    print('귀무가설 기각  -> 정규성 만족 X -> 비모수 검정 진행\\n')\n",
    "    print('Wilcoxon 부호 검정\\n')\n",
    "    print('귀무가설 : \"100명 키의 평균은 165이다.\"   vs   대립가설 : \"100명 키의 평균은 165가 아니다.\"')\n",
    "    \n",
    "    # Wilcoxon 부호순위 검정\n",
    "    static, pvalue = wilcoxon(df['height']-165)\n",
    "    \n",
    "    if pvalue < 0.05:\n",
    "        print(f'검정 결과 p-value는 ', pvalue, '로 결과는 귀무가설을 기각한다.')\n",
    "        print('따라서 \"100명 키의 평균은 165가 아니다.\"')\n",
    "    else:\n",
    "        print(f'검정 결과 p-value는 ', pvalue, '로 결과는 귀무가설을 기각하지 않는다.')\n",
    "        print('따라서 \"100명 키의 평균은 165이다.\"')\n",
    "    \n",
    "    \n",
    "else:\n",
    "    print('귀무가설 기각 X -> 정규성 만족 -> 단일표본 검정으로 확인\\n')\n",
    "    print('단일표본 t-test \\n')\n",
    "    print('귀무가설 : \"100명 키의 평균은 165이다.\"   vs   대립가설 : \"100명 키의 평균은 165가 아니다.\"')\n",
    "    \n",
    "    # 단일표본 t-test\n",
    "    statistic, pvalue = ttest_1samp(df['height'], 165)\n",
    "    \n",
    "    if pvalue < 0.05:\n",
    "        print('검정 결과 p-value는 ', pvalue, '로 결과는 귀무가설을 기각한다.')\n",
    "        print('따라서 \"100명 키의 평균은 165가 아니다.\"')\n",
    "    else:\n",
    "        print('검정 결과 p-value는 ', pvalue, '로 결과는 귀무가설을 기각하지 않는다.')\n",
    "        print('따라서 \"100명 키의 평균은 165이다.\"')"
   ]
  },
  {
   "cell_type": "markdown",
   "id": "ea718026",
   "metadata": {},
   "source": [
    "### Question\n",
    "\n",
    "#### 100명의 키 정보가 들어 있는 데이터가 있다.데이터가 정규성을 만족하는지 확인하라.\n",
    "#### 그리고 평균키는 165라 판단할수 있는지 귀무가설과 대립가설을 설정한 후 유의수준 5%로 검정하라."
   ]
  },
  {
   "cell_type": "code",
   "execution_count": 11,
   "id": "d6bc2d3a",
   "metadata": {},
   "outputs": [],
   "source": [
    "import pandas as pd \n",
    "df = pd.read_csv('https://raw.githubusercontent.com/Datamanim/datarepo/main/scipy/height2.csv')"
   ]
  },
  {
   "cell_type": "code",
   "execution_count": 12,
   "id": "33ef2ce6",
   "metadata": {},
   "outputs": [
    {
     "name": "stdout",
     "output_type": "stream",
     "text": [
      "샤피로 정규성 검정 \n",
      " p-value :  0.013552471995353699 이므로\n",
      "귀무가설 기각  -> 정규성 만족 X -> 비모수 검정 진행\n",
      "\n",
      "Wilcoxon 부호 검정\n",
      "\n",
      "귀무가설 : \"100명 키의 평균은 165이다.\"   vs   대립가설 : \"100명 키의 평균은 165가 아니다.\"\n",
      "검정 결과 p-value는  0.04880534424649582 로 결과는 귀무가설을 기각한다.\n",
      "따라서 \"100명 키의 평균은 165가 아니다.\"\n"
     ]
    }
   ],
   "source": [
    "from scipy.stats import ttest_1samp\n",
    "from scipy.stats import shapiro\n",
    "from scipy.stats import wilcoxon\n",
    "\n",
    "# 정규성 검정 (Shapiro)\n",
    "static, pvalue = shapiro(df)\n",
    "print('샤피로 정규성 검정 \\n p-value : ', pvalue, '이므로')\n",
    "\n",
    "if pvalue < 0.05:\n",
    "    print('귀무가설 기각  -> 정규성 만족 X -> 비모수 검정 진행\\n')\n",
    "    print('Wilcoxon 부호 검정\\n')\n",
    "    print('귀무가설 : \"100명 키의 평균은 165이다.\"   vs   대립가설 : \"100명 키의 평균은 165가 아니다.\"')\n",
    "    \n",
    "    # Wilcoxon 부호순위 검정\n",
    "    static, pvalue = wilcoxon(df['height']-165)\n",
    "    \n",
    "    if pvalue < 0.05:\n",
    "        print(f'검정 결과 p-value는 ', pvalue, '로 결과는 귀무가설을 기각한다.')\n",
    "        print('따라서 \"100명 키의 평균은 165가 아니다.\"')\n",
    "    else:\n",
    "        print(f'검정 결과 p-value는 ', pvalue, '로 결과는 귀무가설을 기각하지 않는다.')\n",
    "        print('따라서 \"100명 키의 평균은 165이다.\"')\n",
    "    \n",
    "    \n",
    "else:\n",
    "    print('귀무가설 기각 X -> 정규성 만족 -> 단일표본 검정으로 확인\\n')\n",
    "    print('단일표본 t-test \\n')\n",
    "    print('귀무가설 : \"100명 키의 평균은 165이다.\"   vs   대립가설 : \"100명 키의 평균은 165가 아니다.\"')\n",
    "    \n",
    "    # 단일표본 t-test\n",
    "    statistic, pvalue = ttest_1samp(df['height'], 165)\n",
    "    \n",
    "    if pvalue < 0.05:\n",
    "        print('검정 결과 p-value는 ', pvalue, '로 결과는 귀무가설을 기각한다.')\n",
    "        print('따라서 \"100명 키의 평균은 165가 아니다.\"')\n",
    "    else:\n",
    "        print('검정 결과 p-value는 ', pvalue, '로 결과는 귀무가설을 기각하지 않는다.')\n",
    "        print('따라서 \"100명 키의 평균은 165이다.\"')"
   ]
  },
  {
   "cell_type": "code",
   "execution_count": null,
   "id": "9b7e8067",
   "metadata": {},
   "outputs": [],
   "source": []
  }
 ],
 "metadata": {
  "kernelspec": {
   "display_name": "Python 3",
   "language": "python",
   "name": "python3"
  },
  "language_info": {
   "codemirror_mode": {
    "name": "ipython",
    "version": 3
   },
   "file_extension": ".py",
   "mimetype": "text/x-python",
   "name": "python",
   "nbconvert_exporter": "python",
   "pygments_lexer": "ipython3",
   "version": "3.8.8"
  }
 },
 "nbformat": 4,
 "nbformat_minor": 5
}
