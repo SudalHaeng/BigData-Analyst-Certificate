{
 "cells": [
  {
   "cell_type": "markdown",
   "id": "35859a33",
   "metadata": {},
   "source": [
    "### 주요 모듈\n",
    "\n",
    "#### 6가지 대표 하위 메소드중 통계분석을 위한 stats를 위주로 학습"
   ]
  },
  {
   "cell_type": "markdown",
   "id": "4d83dae8",
   "metadata": {},
   "source": [
    "scipy  \n",
    "│      \n",
    "├── 01 integrate 수치적분, 미분방정식  \n",
    "│      \n",
    "├── 02 linalg (선형대수, 매트릭스 분해)  \n",
    "│      \n",
    "├── 03 optimize (방정식 해 구하는 알고리즘, 함수 최적화)  \n",
    "│      \n",
    "├── 04 signal (신호 관련)  \n",
    "│      \n",
    "├── 05 sparse (희소 행렬, 희소 선형 시스템)  \n",
    "│      \n",
    "└── 06 stats (통계 분석)   "
   ]
  },
  {
   "cell_type": "markdown",
   "id": "fb135d32",
   "metadata": {},
   "source": [
    "### stats 하위 모듈\n",
    "\n",
    "252개"
   ]
  },
  {
   "cell_type": "code",
   "execution_count": 1,
   "id": "7f560eac",
   "metadata": {},
   "outputs": [
    {
     "name": "stdout",
     "output_type": "stream",
     "text": [
      "252\n"
     ]
    }
   ],
   "source": [
    "from scipy import stats\n",
    "print(len([x for x in dir(stats) if x[0] !='_'  ]))"
   ]
  },
  {
   "cell_type": "markdown",
   "id": "ff45c76c",
   "metadata": {},
   "source": []
  },
  {
   "cell_type": "markdown",
   "id": "048f9ec4",
   "metadata": {},
   "source": [
    "scipy.stats  \n",
    "│    \n",
    "├── 01 T-test  \n",
    "│   │    \n",
    "│   ├── ttest_1samp         (단일표본 t검정)  \n",
    "│   ├── ttest_ind           (독립표본 t검정)  \n",
    "│   └── ttest_rel           (대응표본 t검정)   \n",
    "│     \n",
    "├── 02 비모수 검정  \n",
    "│   │    \n",
    "│   ├── mannwhitneyu        (맨-휘트니 U 검정 - 중위수 , 윌콕슨 순위합 검정과 동일하다 볼 수 있음)  \n",
    "│   ├── ranksums            (윌콕슨 순위합 검정 - 중위수)  \n",
    "│   └── wilcoxon            (윌콕슨 부호 순위합 검정)  \n",
    "│     \n",
    "├── 03 정규정 검정  \n",
    "│   │    \n",
    "│   ├── anderson            (Anderson-Darling , 데이터수가 상대적으로 많을 때)  \n",
    "│   ├── kstest              (Kolmogorov-Smirnov , 데이터수가 상대적으로 많을 때)  \n",
    "│   ├── mstats.normaltest  \n",
    "│   └── shapiro             (shapiro, 노말분포 가장 엄격하게 검정, 데이터수가 상대적으로 적을때)  \n",
    "│       \n",
    "├── 04 등분산 검정  \n",
    "│   │    \n",
    "│   ├── bartlett  \n",
    "│   ├── fligner  \n",
    "│   └── levene  \n",
    "│    \n",
    "├── 05 카이제곱검정  \n",
    "│   │    \n",
    "│   ├── chi2_contingency     (카이제곱독립검정, 독립성 검정)  \n",
    "│   ├── chisquare            (카이제곱검정 , 적합도 검정)    \n",
    "│   └── fisher_exact         (피셔 정확 검정 - 빈도수가 5개 이하 셀의 수가 전체 셀의 20%이상일 경우 사용 )    \n",
    "│      \n",
    "└── 06 ANOVA (일원분산분석)  \n",
    "    │    \n",
    "    └── f_oneway (분산 분석은  statmodels 모듈이 더 좋음! )  "
   ]
  }
 ],
 "metadata": {
  "kernelspec": {
   "display_name": "Python 3",
   "language": "python",
   "name": "python3"
  },
  "language_info": {
   "codemirror_mode": {
    "name": "ipython",
    "version": 3
   },
   "file_extension": ".py",
   "mimetype": "text/x-python",
   "name": "python",
   "nbconvert_exporter": "python",
   "pygments_lexer": "ipython3",
   "version": "3.8.8"
  }
 },
 "nbformat": 4,
 "nbformat_minor": 5
}
