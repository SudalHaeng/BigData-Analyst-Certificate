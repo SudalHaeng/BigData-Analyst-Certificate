{
 "cells": [
  {
   "cell_type": "markdown",
   "id": "9b97bda7",
   "metadata": {},
   "source": [
    "#### 카드이용데이터 : https://www.kaggle.com/sakshigoyal7/credit-card-customers \n",
    "#### DataUrl = ‘https://raw.githubusercontent.com/Datamanim/pandas/main/BankChurnersUp.csv’"
   ]
  },
  {
   "cell_type": "code",
   "execution_count": 1,
   "id": "35c8f1a0",
   "metadata": {},
   "outputs": [],
   "source": [
    "import pandas as pd"
   ]
  },
  {
   "cell_type": "markdown",
   "id": "66936e29",
   "metadata": {},
   "source": [
    "### Question 56\n",
    "\n",
    "데이터를 로드하고 데이터 행과 열의 갯수를 출력하라"
   ]
  },
  {
   "cell_type": "code",
   "execution_count": 2,
   "id": "7b2097d1",
   "metadata": {},
   "outputs": [
    {
     "data": {
      "text/plain": [
       "(10127, 18)"
      ]
     },
     "execution_count": 2,
     "metadata": {},
     "output_type": "execute_result"
    }
   ],
   "source": [
    "df = pd.read_csv('https://raw.githubusercontent.com/Datamanim/pandas/main/BankChurnersUp.csv',index_col=0)\n",
    "df.shape"
   ]
  },
  {
   "cell_type": "markdown",
   "id": "8156d67d",
   "metadata": {},
   "source": [
    "### Question 57\n",
    "\n",
    "#### Income_Category의 카테고리를 map 함수를 이용하여 다음과 같이 변경하여 newIncome 컬럼에 매핑하라\n",
    "Unknown : N Less than 40K:a40K - 60K:b60K - 80K:c80K - 120K:d120K +’ : e"
   ]
  },
  {
   "cell_type": "code",
   "execution_count": 3,
   "id": "30bd7438",
   "metadata": {},
   "outputs": [
    {
     "data": {
      "text/plain": [
       "0        c\n",
       "1        a\n",
       "2        d\n",
       "3        a\n",
       "4        c\n",
       "        ..\n",
       "10122    b\n",
       "10123    b\n",
       "10124    a\n",
       "10125    b\n",
       "10126    a\n",
       "Name: newincome, Length: 10127, dtype: object"
      ]
     },
     "execution_count": 3,
     "metadata": {},
     "output_type": "execute_result"
    }
   ],
   "source": [
    "dic = {\n",
    "    'Unknown'        : 'N',\n",
    "    'Less than $40K' : 'a',\n",
    "    '$40K - $60K'    : 'b',\n",
    "    '$60K - $80K'    : 'c',\n",
    "    '$80K - $120K'   : 'd',\n",
    "    '$120K +'        : 'e'   \n",
    "}\n",
    "\n",
    "df['newincome'] = df['Income_Category'].map(lambda x : dic[x])\n",
    "df['newincome']"
   ]
  },
  {
   "cell_type": "markdown",
   "id": "b7540867",
   "metadata": {},
   "source": [
    "### Question 58\n",
    "\n",
    "#### Income_Category의 카테고리를 apply 함수를 이용하여 다음과 같이 변경하여 newIncome 컬럼에 매핑하라\n",
    "Unknown : N Less than 40K:a40K - 60K:b60K - 80K:c80K - 120K:d120K +’ : e"
   ]
  },
  {
   "cell_type": "code",
   "execution_count": 4,
   "id": "fef98427",
   "metadata": {},
   "outputs": [
    {
     "data": {
      "text/plain": [
       "0        c\n",
       "1        a\n",
       "2        d\n",
       "3        a\n",
       "4        c\n",
       "        ..\n",
       "10122    b\n",
       "10123    b\n",
       "10124    a\n",
       "10125    b\n",
       "10126    a\n",
       "Name: newIncome, Length: 10127, dtype: object"
      ]
     },
     "execution_count": 4,
     "metadata": {},
     "output_type": "execute_result"
    }
   ],
   "source": [
    "def changeCategory(x):\n",
    "    if x =='Unknown':\n",
    "        return 'N'\n",
    "    elif x =='Less than $40K':\n",
    "        return 'a'\n",
    "    elif x =='$40K - $60K':   \n",
    "        return 'b'\n",
    "    elif x =='$60K - $80K':    \n",
    "        return 'c'\n",
    "    elif x =='$80K - $120K':   \n",
    "        return 'd'\n",
    "    elif x =='$120K +' :     \n",
    "        return 'e'\n",
    "\n",
    "df['newIncome'] = df['Income_Category'].apply(changeCategory)\n",
    "df['newIncome']"
   ]
  },
  {
   "cell_type": "markdown",
   "id": "ed12a629",
   "metadata": {},
   "source": [
    "### Question 59\n",
    "\n",
    "#### Customer_Age의 값을 이용하여 나이 구간을 AgeState 컬럼으로 정의하라. \n",
    "(0&#126;9 : 0 , 10&#126;19 :10 , 20&#126;29 :20 … 각 구간의 빈도수를 출력하라"
   ]
  },
  {
   "cell_type": "code",
   "execution_count": 5,
   "id": "fb4f9f02",
   "metadata": {},
   "outputs": [
    {
     "data": {
      "text/plain": [
       "20     195\n",
       "30    1841\n",
       "40    4561\n",
       "50    2998\n",
       "60     530\n",
       "70       2\n",
       "Name: AgeState, dtype: int64"
      ]
     },
     "execution_count": 5,
     "metadata": {},
     "output_type": "execute_result"
    }
   ],
   "source": [
    "df['AgeState']  = df['Customer_Age'].map(lambda x: x//10 *10)\n",
    "\n",
    "df['AgeState'].value_counts().sort_index()"
   ]
  },
  {
   "cell_type": "markdown",
   "id": "4a243067",
   "metadata": {},
   "source": [
    "### Question 60\n",
    "\n",
    "#### Education_Level의 값중 Graduate단어가 포함되는 값은 1 그렇지 않은 경우에는 0으로 변경하여 newEduLevel 컬럼을 정의하고 빈도수를 출력하라"
   ]
  },
  {
   "cell_type": "code",
   "execution_count": 6,
   "id": "29e86282",
   "metadata": {},
   "outputs": [
    {
     "data": {
      "text/plain": [
       "0    6483\n",
       "1    3644\n",
       "Name: newEduLevel, dtype: int64"
      ]
     },
     "execution_count": 6,
     "metadata": {},
     "output_type": "execute_result"
    }
   ],
   "source": [
    "df['newEduLevel'] = df['Education_Level'].map(lambda x : 1 if 'Graduate' in x else 0)\n",
    "df['newEduLevel'].value_counts()"
   ]
  },
  {
   "cell_type": "markdown",
   "id": "164b04fd",
   "metadata": {},
   "source": [
    "### Question 61\n",
    "\n",
    "#### Credit_Limit 컬럼값이 4500 이상인 경우 1 그외의 경우에는 모두 0으로 하는 newLimit 정의하라. newLimit 각 값들의 빈도수를 출력하라"
   ]
  },
  {
   "cell_type": "code",
   "execution_count": 7,
   "id": "034e60e5",
   "metadata": {},
   "outputs": [
    {
     "data": {
      "text/plain": [
       "1    5096\n",
       "0    5031\n",
       "Name: newLimit, dtype: int64"
      ]
     },
     "execution_count": 7,
     "metadata": {},
     "output_type": "execute_result"
    }
   ],
   "source": [
    "df['newLimit'] = df['Credit_Limit'].map(lambda x : 1 if x>=4500 else 0)\n",
    "df['newLimit'].value_counts()"
   ]
  },
  {
   "cell_type": "markdown",
   "id": "294fcb00",
   "metadata": {},
   "source": [
    "### Question 62\n",
    "\n",
    "#### Marital_Status 컬럼값이 Married 이고 Card_Category 컬럼의 값이 Platinum인 경우 1 그외의 경우에는 모두 0으로 하는 newState컬럼을 정의하라. \n",
    "#### newState의 각 값들의 빈도수를 출력하라"
   ]
  },
  {
   "cell_type": "code",
   "execution_count": 8,
   "id": "9383ea11",
   "metadata": {},
   "outputs": [
    {
     "data": {
      "text/plain": [
       "0    10120\n",
       "1        7\n",
       "Name: newState, dtype: int64"
      ]
     },
     "execution_count": 8,
     "metadata": {},
     "output_type": "execute_result"
    }
   ],
   "source": [
    "def check(x):\n",
    "    if x.Marital_Status =='Married' and x.Card_Category =='Platinum':\n",
    "        return 1\n",
    "    else:\n",
    "        return 0\n",
    "\n",
    "\n",
    "df['newState'] = df.apply(check,axis=1)\n",
    "\n",
    "df['newState'].value_counts()"
   ]
  },
  {
   "cell_type": "markdown",
   "id": "5993105c",
   "metadata": {},
   "source": [
    "### Question 63\n",
    "\n",
    "#### Gender 컬럼값 M인 경우 male F인 경우 female로 값을 변경하여 Gender 컬럼에 새롭게 정의하라. 각 value의 빈도를 출력하라"
   ]
  },
  {
   "cell_type": "code",
   "execution_count": 9,
   "id": "47dffbed",
   "metadata": {},
   "outputs": [
    {
     "data": {
      "text/plain": [
       "female    5358\n",
       "male      4769\n",
       "Name: Gender, dtype: int64"
      ]
     },
     "execution_count": 9,
     "metadata": {},
     "output_type": "execute_result"
    }
   ],
   "source": [
    "def changeGender(x):\n",
    "    if x =='M':\n",
    "        return 'male'\n",
    "    else:\n",
    "        return 'female'\n",
    "df['Gender'] = df['Gender'].apply(changeGender)\n",
    "df['Gender'].value_counts()"
   ]
  }
 ],
 "metadata": {
  "kernelspec": {
   "display_name": "Python 3",
   "language": "python",
   "name": "python3"
  },
  "language_info": {
   "codemirror_mode": {
    "name": "ipython",
    "version": 3
   },
   "file_extension": ".py",
   "mimetype": "text/x-python",
   "name": "python",
   "nbconvert_exporter": "python",
   "pygments_lexer": "ipython3",
   "version": "3.8.8"
  }
 },
 "nbformat": 4,
 "nbformat_minor": 5
}
